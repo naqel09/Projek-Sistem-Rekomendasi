{
  "cells": [
    {
      "cell_type": "markdown",
      "source": [
        "# **Proyek Machine learning-Andry Septian Syahputra Tumaruk-MC476D5Y0692-MC39**"
      ],
      "metadata": {
        "id": "cEmut5dv43u8"
      }
    },
    {
      "cell_type": "markdown",
      "source": [
        "# Import Library"
      ],
      "metadata": {
        "id": "Vj5L4y7nd67f"
      }
    },
    {
      "cell_type": "code",
      "execution_count": null,
      "metadata": {
        "id": "42xQ41KcVXfW"
      },
      "outputs": [],
      "source": [
        "import pandas as pd\n",
        "import numpy as np\n",
        "from sklearn.feature_extraction.text import TfidfVectorizer\n",
        "from sklearn.metrics.pairwise import cosine_similarity\n",
        "import ast"
      ]
    },
    {
      "cell_type": "markdown",
      "source": [
        "Pada kode diatas ini kita akan mengimport library yang dibutuhkan untuk menjalankan proyek ini"
      ],
      "metadata": {
        "id": "otGQQr285J57"
      }
    },
    {
      "cell_type": "markdown",
      "source": [
        "# Load data"
      ],
      "metadata": {
        "id": "TjUbOX3IkamH"
      }
    },
    {
      "cell_type": "code",
      "execution_count": null,
      "metadata": {
        "colab": {
          "base_uri": "https://localhost:8080/"
        },
        "id": "tWvOEcgZU32e",
        "outputId": "eb710e9b-0020-4c8b-e00b-ccd74c17dac6"
      },
      "outputs": [
        {
          "output_type": "stream",
          "name": "stdout",
          "text": [
            "Dataset URL: https://www.kaggle.com/datasets/tmdb/tmdb-movie-metadata\n",
            "License(s): other\n",
            "Downloading tmdb-movie-metadata.zip to /content\n",
            "  0% 0.00/8.89M [00:00<?, ?B/s]\n",
            "100% 8.89M/8.89M [00:00<00:00, 665MB/s]\n"
          ]
        }
      ],
      "source": [
        "!mkdir ~/.kaggle\n",
        "!cp kaggle.json ~/.kaggle\n",
        "!chmod 600 ~/.kaggle/kaggle.json\n",
        "!kaggle datasets download -d 'tmdb/tmdb-movie-metadata'\n"
      ]
    },
    {
      "cell_type": "markdown",
      "source": [
        "- **Sumber Data**: Dataset [TMDB Movie Metadata](https://www.kaggle.com/datasets/tmdb/tmdb-movie-metadata) dari Kaggle.\n",
        "- **Proses**:\n",
        "  - Menggunakan API Kaggle untuk mengunduh dataset.\n",
        "  - Membaca file CSV (`tmdb_5000_movies.csv` dan `tmdb_5000_credits.csv`) ke dalam DataFrame."
      ],
      "metadata": {
        "id": "ZJcDzvWk5TLQ"
      }
    },
    {
      "cell_type": "code",
      "execution_count": null,
      "metadata": {
        "id": "wvip5jnLWeur",
        "colab": {
          "base_uri": "https://localhost:8080/"
        },
        "outputId": "e1e0dba3-c773-4e6e-fdc7-a04a7a2f5a1c"
      },
      "outputs": [
        {
          "output_type": "stream",
          "name": "stdout",
          "text": [
            "Archive:  tmdb-movie-metadata.zip\n",
            "  inflating: tmdb_5000_credits.csv   \n",
            "  inflating: tmdb_5000_movies.csv    \n"
          ]
        }
      ],
      "source": [
        "!unzip tmdb-movie-metadata.zip\n",
        "# --- Tahap 1: Memuat dataset film ---\n",
        "movies_df = pd.read_csv('tmdb_5000_movies.csv')\n",
        "credits_df = pd.read_csv('tmdb_5000_credits.csv')\n"
      ]
    },
    {
      "cell_type": "code",
      "source": [
        "print('jumlah data pada movies:',len(movies_df.id.unique()))\n",
        "print('jumlah data pada credits:',len(credits_df.movie_id.unique()))"
      ],
      "metadata": {
        "colab": {
          "base_uri": "https://localhost:8080/"
        },
        "id": "6T_eJNaSkzr_",
        "outputId": "3ffe86ae-f97d-40a8-cfd9-5a710658fae4"
      },
      "execution_count": null,
      "outputs": [
        {
          "output_type": "stream",
          "name": "stdout",
          "text": [
            "jumlah data pada movies: 4803\n",
            "jumlah data pada credits: 4803\n"
          ]
        }
      ]
    },
    {
      "cell_type": "markdown",
      "source": [
        "sintak diatas digunakan untuk memvalidasi jumlah data unik untuk memastikan konsistensi."
      ],
      "metadata": {
        "id": "yMS_pB8x5Xkt"
      }
    },
    {
      "cell_type": "markdown",
      "source": [
        "# Univariate Exploratory Data Analysis"
      ],
      "metadata": {
        "id": "fxQjZvLFqdmD"
      }
    },
    {
      "cell_type": "code",
      "source": [
        "movies_df.info()\n",
        "movies_df.head()"
      ],
      "metadata": {
        "colab": {
          "base_uri": "https://localhost:8080/",
          "height": 1000
        },
        "id": "jk3upNCmjRM8",
        "outputId": "581a504b-d9ae-4c65-c4f5-b00d50f64e52"
      },
      "execution_count": null,
      "outputs": [
        {
          "output_type": "stream",
          "name": "stdout",
          "text": [
            "<class 'pandas.core.frame.DataFrame'>\n",
            "RangeIndex: 4803 entries, 0 to 4802\n",
            "Data columns (total 20 columns):\n",
            " #   Column                Non-Null Count  Dtype  \n",
            "---  ------                --------------  -----  \n",
            " 0   budget                4803 non-null   int64  \n",
            " 1   genres                4803 non-null   object \n",
            " 2   homepage              1712 non-null   object \n",
            " 3   id                    4803 non-null   int64  \n",
            " 4   keywords              4803 non-null   object \n",
            " 5   original_language     4803 non-null   object \n",
            " 6   original_title        4803 non-null   object \n",
            " 7   overview              4800 non-null   object \n",
            " 8   popularity            4803 non-null   float64\n",
            " 9   production_companies  4803 non-null   object \n",
            " 10  production_countries  4803 non-null   object \n",
            " 11  release_date          4802 non-null   object \n",
            " 12  revenue               4803 non-null   int64  \n",
            " 13  runtime               4801 non-null   float64\n",
            " 14  spoken_languages      4803 non-null   object \n",
            " 15  status                4803 non-null   object \n",
            " 16  tagline               3959 non-null   object \n",
            " 17  title                 4803 non-null   object \n",
            " 18  vote_average          4803 non-null   float64\n",
            " 19  vote_count            4803 non-null   int64  \n",
            "dtypes: float64(3), int64(4), object(13)\n",
            "memory usage: 750.6+ KB\n"
          ]
        },
        {
          "output_type": "execute_result",
          "data": {
            "text/plain": [
              "      budget                                             genres  \\\n",
              "0  237000000  [{\"id\": 28, \"name\": \"Action\"}, {\"id\": 12, \"nam...   \n",
              "1  300000000  [{\"id\": 12, \"name\": \"Adventure\"}, {\"id\": 14, \"...   \n",
              "2  245000000  [{\"id\": 28, \"name\": \"Action\"}, {\"id\": 12, \"nam...   \n",
              "3  250000000  [{\"id\": 28, \"name\": \"Action\"}, {\"id\": 80, \"nam...   \n",
              "4  260000000  [{\"id\": 28, \"name\": \"Action\"}, {\"id\": 12, \"nam...   \n",
              "\n",
              "                                       homepage      id  \\\n",
              "0                   http://www.avatarmovie.com/   19995   \n",
              "1  http://disney.go.com/disneypictures/pirates/     285   \n",
              "2   http://www.sonypictures.com/movies/spectre/  206647   \n",
              "3            http://www.thedarkknightrises.com/   49026   \n",
              "4          http://movies.disney.com/john-carter   49529   \n",
              "\n",
              "                                            keywords original_language  \\\n",
              "0  [{\"id\": 1463, \"name\": \"culture clash\"}, {\"id\":...                en   \n",
              "1  [{\"id\": 270, \"name\": \"ocean\"}, {\"id\": 726, \"na...                en   \n",
              "2  [{\"id\": 470, \"name\": \"spy\"}, {\"id\": 818, \"name...                en   \n",
              "3  [{\"id\": 849, \"name\": \"dc comics\"}, {\"id\": 853,...                en   \n",
              "4  [{\"id\": 818, \"name\": \"based on novel\"}, {\"id\":...                en   \n",
              "\n",
              "                             original_title  \\\n",
              "0                                    Avatar   \n",
              "1  Pirates of the Caribbean: At World's End   \n",
              "2                                   Spectre   \n",
              "3                     The Dark Knight Rises   \n",
              "4                               John Carter   \n",
              "\n",
              "                                            overview  popularity  \\\n",
              "0  In the 22nd century, a paraplegic Marine is di...  150.437577   \n",
              "1  Captain Barbossa, long believed to be dead, ha...  139.082615   \n",
              "2  A cryptic message from Bond’s past sends him o...  107.376788   \n",
              "3  Following the death of District Attorney Harve...  112.312950   \n",
              "4  John Carter is a war-weary, former military ca...   43.926995   \n",
              "\n",
              "                                production_companies  \\\n",
              "0  [{\"name\": \"Ingenious Film Partners\", \"id\": 289...   \n",
              "1  [{\"name\": \"Walt Disney Pictures\", \"id\": 2}, {\"...   \n",
              "2  [{\"name\": \"Columbia Pictures\", \"id\": 5}, {\"nam...   \n",
              "3  [{\"name\": \"Legendary Pictures\", \"id\": 923}, {\"...   \n",
              "4        [{\"name\": \"Walt Disney Pictures\", \"id\": 2}]   \n",
              "\n",
              "                                production_countries release_date     revenue  \\\n",
              "0  [{\"iso_3166_1\": \"US\", \"name\": \"United States o...   2009-12-10  2787965087   \n",
              "1  [{\"iso_3166_1\": \"US\", \"name\": \"United States o...   2007-05-19   961000000   \n",
              "2  [{\"iso_3166_1\": \"GB\", \"name\": \"United Kingdom\"...   2015-10-26   880674609   \n",
              "3  [{\"iso_3166_1\": \"US\", \"name\": \"United States o...   2012-07-16  1084939099   \n",
              "4  [{\"iso_3166_1\": \"US\", \"name\": \"United States o...   2012-03-07   284139100   \n",
              "\n",
              "   runtime                                   spoken_languages    status  \\\n",
              "0    162.0  [{\"iso_639_1\": \"en\", \"name\": \"English\"}, {\"iso...  Released   \n",
              "1    169.0           [{\"iso_639_1\": \"en\", \"name\": \"English\"}]  Released   \n",
              "2    148.0  [{\"iso_639_1\": \"fr\", \"name\": \"Fran\\u00e7ais\"},...  Released   \n",
              "3    165.0           [{\"iso_639_1\": \"en\", \"name\": \"English\"}]  Released   \n",
              "4    132.0           [{\"iso_639_1\": \"en\", \"name\": \"English\"}]  Released   \n",
              "\n",
              "                                          tagline  \\\n",
              "0                     Enter the World of Pandora.   \n",
              "1  At the end of the world, the adventure begins.   \n",
              "2                           A Plan No One Escapes   \n",
              "3                                 The Legend Ends   \n",
              "4            Lost in our world, found in another.   \n",
              "\n",
              "                                      title  vote_average  vote_count  \n",
              "0                                    Avatar           7.2       11800  \n",
              "1  Pirates of the Caribbean: At World's End           6.9        4500  \n",
              "2                                   Spectre           6.3        4466  \n",
              "3                     The Dark Knight Rises           7.6        9106  \n",
              "4                               John Carter           6.1        2124  "
            ],
            "text/html": [
              "\n",
              "  <div id=\"df-30a0cac0-0c2e-47bb-badd-cda4df209b04\" class=\"colab-df-container\">\n",
              "    <div>\n",
              "<style scoped>\n",
              "    .dataframe tbody tr th:only-of-type {\n",
              "        vertical-align: middle;\n",
              "    }\n",
              "\n",
              "    .dataframe tbody tr th {\n",
              "        vertical-align: top;\n",
              "    }\n",
              "\n",
              "    .dataframe thead th {\n",
              "        text-align: right;\n",
              "    }\n",
              "</style>\n",
              "<table border=\"1\" class=\"dataframe\">\n",
              "  <thead>\n",
              "    <tr style=\"text-align: right;\">\n",
              "      <th></th>\n",
              "      <th>budget</th>\n",
              "      <th>genres</th>\n",
              "      <th>homepage</th>\n",
              "      <th>id</th>\n",
              "      <th>keywords</th>\n",
              "      <th>original_language</th>\n",
              "      <th>original_title</th>\n",
              "      <th>overview</th>\n",
              "      <th>popularity</th>\n",
              "      <th>production_companies</th>\n",
              "      <th>production_countries</th>\n",
              "      <th>release_date</th>\n",
              "      <th>revenue</th>\n",
              "      <th>runtime</th>\n",
              "      <th>spoken_languages</th>\n",
              "      <th>status</th>\n",
              "      <th>tagline</th>\n",
              "      <th>title</th>\n",
              "      <th>vote_average</th>\n",
              "      <th>vote_count</th>\n",
              "    </tr>\n",
              "  </thead>\n",
              "  <tbody>\n",
              "    <tr>\n",
              "      <th>0</th>\n",
              "      <td>237000000</td>\n",
              "      <td>[{\"id\": 28, \"name\": \"Action\"}, {\"id\": 12, \"nam...</td>\n",
              "      <td>http://www.avatarmovie.com/</td>\n",
              "      <td>19995</td>\n",
              "      <td>[{\"id\": 1463, \"name\": \"culture clash\"}, {\"id\":...</td>\n",
              "      <td>en</td>\n",
              "      <td>Avatar</td>\n",
              "      <td>In the 22nd century, a paraplegic Marine is di...</td>\n",
              "      <td>150.437577</td>\n",
              "      <td>[{\"name\": \"Ingenious Film Partners\", \"id\": 289...</td>\n",
              "      <td>[{\"iso_3166_1\": \"US\", \"name\": \"United States o...</td>\n",
              "      <td>2009-12-10</td>\n",
              "      <td>2787965087</td>\n",
              "      <td>162.0</td>\n",
              "      <td>[{\"iso_639_1\": \"en\", \"name\": \"English\"}, {\"iso...</td>\n",
              "      <td>Released</td>\n",
              "      <td>Enter the World of Pandora.</td>\n",
              "      <td>Avatar</td>\n",
              "      <td>7.2</td>\n",
              "      <td>11800</td>\n",
              "    </tr>\n",
              "    <tr>\n",
              "      <th>1</th>\n",
              "      <td>300000000</td>\n",
              "      <td>[{\"id\": 12, \"name\": \"Adventure\"}, {\"id\": 14, \"...</td>\n",
              "      <td>http://disney.go.com/disneypictures/pirates/</td>\n",
              "      <td>285</td>\n",
              "      <td>[{\"id\": 270, \"name\": \"ocean\"}, {\"id\": 726, \"na...</td>\n",
              "      <td>en</td>\n",
              "      <td>Pirates of the Caribbean: At World's End</td>\n",
              "      <td>Captain Barbossa, long believed to be dead, ha...</td>\n",
              "      <td>139.082615</td>\n",
              "      <td>[{\"name\": \"Walt Disney Pictures\", \"id\": 2}, {\"...</td>\n",
              "      <td>[{\"iso_3166_1\": \"US\", \"name\": \"United States o...</td>\n",
              "      <td>2007-05-19</td>\n",
              "      <td>961000000</td>\n",
              "      <td>169.0</td>\n",
              "      <td>[{\"iso_639_1\": \"en\", \"name\": \"English\"}]</td>\n",
              "      <td>Released</td>\n",
              "      <td>At the end of the world, the adventure begins.</td>\n",
              "      <td>Pirates of the Caribbean: At World's End</td>\n",
              "      <td>6.9</td>\n",
              "      <td>4500</td>\n",
              "    </tr>\n",
              "    <tr>\n",
              "      <th>2</th>\n",
              "      <td>245000000</td>\n",
              "      <td>[{\"id\": 28, \"name\": \"Action\"}, {\"id\": 12, \"nam...</td>\n",
              "      <td>http://www.sonypictures.com/movies/spectre/</td>\n",
              "      <td>206647</td>\n",
              "      <td>[{\"id\": 470, \"name\": \"spy\"}, {\"id\": 818, \"name...</td>\n",
              "      <td>en</td>\n",
              "      <td>Spectre</td>\n",
              "      <td>A cryptic message from Bond’s past sends him o...</td>\n",
              "      <td>107.376788</td>\n",
              "      <td>[{\"name\": \"Columbia Pictures\", \"id\": 5}, {\"nam...</td>\n",
              "      <td>[{\"iso_3166_1\": \"GB\", \"name\": \"United Kingdom\"...</td>\n",
              "      <td>2015-10-26</td>\n",
              "      <td>880674609</td>\n",
              "      <td>148.0</td>\n",
              "      <td>[{\"iso_639_1\": \"fr\", \"name\": \"Fran\\u00e7ais\"},...</td>\n",
              "      <td>Released</td>\n",
              "      <td>A Plan No One Escapes</td>\n",
              "      <td>Spectre</td>\n",
              "      <td>6.3</td>\n",
              "      <td>4466</td>\n",
              "    </tr>\n",
              "    <tr>\n",
              "      <th>3</th>\n",
              "      <td>250000000</td>\n",
              "      <td>[{\"id\": 28, \"name\": \"Action\"}, {\"id\": 80, \"nam...</td>\n",
              "      <td>http://www.thedarkknightrises.com/</td>\n",
              "      <td>49026</td>\n",
              "      <td>[{\"id\": 849, \"name\": \"dc comics\"}, {\"id\": 853,...</td>\n",
              "      <td>en</td>\n",
              "      <td>The Dark Knight Rises</td>\n",
              "      <td>Following the death of District Attorney Harve...</td>\n",
              "      <td>112.312950</td>\n",
              "      <td>[{\"name\": \"Legendary Pictures\", \"id\": 923}, {\"...</td>\n",
              "      <td>[{\"iso_3166_1\": \"US\", \"name\": \"United States o...</td>\n",
              "      <td>2012-07-16</td>\n",
              "      <td>1084939099</td>\n",
              "      <td>165.0</td>\n",
              "      <td>[{\"iso_639_1\": \"en\", \"name\": \"English\"}]</td>\n",
              "      <td>Released</td>\n",
              "      <td>The Legend Ends</td>\n",
              "      <td>The Dark Knight Rises</td>\n",
              "      <td>7.6</td>\n",
              "      <td>9106</td>\n",
              "    </tr>\n",
              "    <tr>\n",
              "      <th>4</th>\n",
              "      <td>260000000</td>\n",
              "      <td>[{\"id\": 28, \"name\": \"Action\"}, {\"id\": 12, \"nam...</td>\n",
              "      <td>http://movies.disney.com/john-carter</td>\n",
              "      <td>49529</td>\n",
              "      <td>[{\"id\": 818, \"name\": \"based on novel\"}, {\"id\":...</td>\n",
              "      <td>en</td>\n",
              "      <td>John Carter</td>\n",
              "      <td>John Carter is a war-weary, former military ca...</td>\n",
              "      <td>43.926995</td>\n",
              "      <td>[{\"name\": \"Walt Disney Pictures\", \"id\": 2}]</td>\n",
              "      <td>[{\"iso_3166_1\": \"US\", \"name\": \"United States o...</td>\n",
              "      <td>2012-03-07</td>\n",
              "      <td>284139100</td>\n",
              "      <td>132.0</td>\n",
              "      <td>[{\"iso_639_1\": \"en\", \"name\": \"English\"}]</td>\n",
              "      <td>Released</td>\n",
              "      <td>Lost in our world, found in another.</td>\n",
              "      <td>John Carter</td>\n",
              "      <td>6.1</td>\n",
              "      <td>2124</td>\n",
              "    </tr>\n",
              "  </tbody>\n",
              "</table>\n",
              "</div>\n",
              "    <div class=\"colab-df-buttons\">\n",
              "\n",
              "  <div class=\"colab-df-container\">\n",
              "    <button class=\"colab-df-convert\" onclick=\"convertToInteractive('df-30a0cac0-0c2e-47bb-badd-cda4df209b04')\"\n",
              "            title=\"Convert this dataframe to an interactive table.\"\n",
              "            style=\"display:none;\">\n",
              "\n",
              "  <svg xmlns=\"http://www.w3.org/2000/svg\" height=\"24px\" viewBox=\"0 -960 960 960\">\n",
              "    <path d=\"M120-120v-720h720v720H120Zm60-500h600v-160H180v160Zm220 220h160v-160H400v160Zm0 220h160v-160H400v160ZM180-400h160v-160H180v160Zm440 0h160v-160H620v160ZM180-180h160v-160H180v160Zm440 0h160v-160H620v160Z\"/>\n",
              "  </svg>\n",
              "    </button>\n",
              "\n",
              "  <style>\n",
              "    .colab-df-container {\n",
              "      display:flex;\n",
              "      gap: 12px;\n",
              "    }\n",
              "\n",
              "    .colab-df-convert {\n",
              "      background-color: #E8F0FE;\n",
              "      border: none;\n",
              "      border-radius: 50%;\n",
              "      cursor: pointer;\n",
              "      display: none;\n",
              "      fill: #1967D2;\n",
              "      height: 32px;\n",
              "      padding: 0 0 0 0;\n",
              "      width: 32px;\n",
              "    }\n",
              "\n",
              "    .colab-df-convert:hover {\n",
              "      background-color: #E2EBFA;\n",
              "      box-shadow: 0px 1px 2px rgba(60, 64, 67, 0.3), 0px 1px 3px 1px rgba(60, 64, 67, 0.15);\n",
              "      fill: #174EA6;\n",
              "    }\n",
              "\n",
              "    .colab-df-buttons div {\n",
              "      margin-bottom: 4px;\n",
              "    }\n",
              "\n",
              "    [theme=dark] .colab-df-convert {\n",
              "      background-color: #3B4455;\n",
              "      fill: #D2E3FC;\n",
              "    }\n",
              "\n",
              "    [theme=dark] .colab-df-convert:hover {\n",
              "      background-color: #434B5C;\n",
              "      box-shadow: 0px 1px 3px 1px rgba(0, 0, 0, 0.15);\n",
              "      filter: drop-shadow(0px 1px 2px rgba(0, 0, 0, 0.3));\n",
              "      fill: #FFFFFF;\n",
              "    }\n",
              "  </style>\n",
              "\n",
              "    <script>\n",
              "      const buttonEl =\n",
              "        document.querySelector('#df-30a0cac0-0c2e-47bb-badd-cda4df209b04 button.colab-df-convert');\n",
              "      buttonEl.style.display =\n",
              "        google.colab.kernel.accessAllowed ? 'block' : 'none';\n",
              "\n",
              "      async function convertToInteractive(key) {\n",
              "        const element = document.querySelector('#df-30a0cac0-0c2e-47bb-badd-cda4df209b04');\n",
              "        const dataTable =\n",
              "          await google.colab.kernel.invokeFunction('convertToInteractive',\n",
              "                                                    [key], {});\n",
              "        if (!dataTable) return;\n",
              "\n",
              "        const docLinkHtml = 'Like what you see? Visit the ' +\n",
              "          '<a target=\"_blank\" href=https://colab.research.google.com/notebooks/data_table.ipynb>data table notebook</a>'\n",
              "          + ' to learn more about interactive tables.';\n",
              "        element.innerHTML = '';\n",
              "        dataTable['output_type'] = 'display_data';\n",
              "        await google.colab.output.renderOutput(dataTable, element);\n",
              "        const docLink = document.createElement('div');\n",
              "        docLink.innerHTML = docLinkHtml;\n",
              "        element.appendChild(docLink);\n",
              "      }\n",
              "    </script>\n",
              "  </div>\n",
              "\n",
              "\n",
              "    <div id=\"df-e8baaa0f-230c-43da-9392-723416425617\">\n",
              "      <button class=\"colab-df-quickchart\" onclick=\"quickchart('df-e8baaa0f-230c-43da-9392-723416425617')\"\n",
              "                title=\"Suggest charts\"\n",
              "                style=\"display:none;\">\n",
              "\n",
              "<svg xmlns=\"http://www.w3.org/2000/svg\" height=\"24px\"viewBox=\"0 0 24 24\"\n",
              "     width=\"24px\">\n",
              "    <g>\n",
              "        <path d=\"M19 3H5c-1.1 0-2 .9-2 2v14c0 1.1.9 2 2 2h14c1.1 0 2-.9 2-2V5c0-1.1-.9-2-2-2zM9 17H7v-7h2v7zm4 0h-2V7h2v10zm4 0h-2v-4h2v4z\"/>\n",
              "    </g>\n",
              "</svg>\n",
              "      </button>\n",
              "\n",
              "<style>\n",
              "  .colab-df-quickchart {\n",
              "      --bg-color: #E8F0FE;\n",
              "      --fill-color: #1967D2;\n",
              "      --hover-bg-color: #E2EBFA;\n",
              "      --hover-fill-color: #174EA6;\n",
              "      --disabled-fill-color: #AAA;\n",
              "      --disabled-bg-color: #DDD;\n",
              "  }\n",
              "\n",
              "  [theme=dark] .colab-df-quickchart {\n",
              "      --bg-color: #3B4455;\n",
              "      --fill-color: #D2E3FC;\n",
              "      --hover-bg-color: #434B5C;\n",
              "      --hover-fill-color: #FFFFFF;\n",
              "      --disabled-bg-color: #3B4455;\n",
              "      --disabled-fill-color: #666;\n",
              "  }\n",
              "\n",
              "  .colab-df-quickchart {\n",
              "    background-color: var(--bg-color);\n",
              "    border: none;\n",
              "    border-radius: 50%;\n",
              "    cursor: pointer;\n",
              "    display: none;\n",
              "    fill: var(--fill-color);\n",
              "    height: 32px;\n",
              "    padding: 0;\n",
              "    width: 32px;\n",
              "  }\n",
              "\n",
              "  .colab-df-quickchart:hover {\n",
              "    background-color: var(--hover-bg-color);\n",
              "    box-shadow: 0 1px 2px rgba(60, 64, 67, 0.3), 0 1px 3px 1px rgba(60, 64, 67, 0.15);\n",
              "    fill: var(--button-hover-fill-color);\n",
              "  }\n",
              "\n",
              "  .colab-df-quickchart-complete:disabled,\n",
              "  .colab-df-quickchart-complete:disabled:hover {\n",
              "    background-color: var(--disabled-bg-color);\n",
              "    fill: var(--disabled-fill-color);\n",
              "    box-shadow: none;\n",
              "  }\n",
              "\n",
              "  .colab-df-spinner {\n",
              "    border: 2px solid var(--fill-color);\n",
              "    border-color: transparent;\n",
              "    border-bottom-color: var(--fill-color);\n",
              "    animation:\n",
              "      spin 1s steps(1) infinite;\n",
              "  }\n",
              "\n",
              "  @keyframes spin {\n",
              "    0% {\n",
              "      border-color: transparent;\n",
              "      border-bottom-color: var(--fill-color);\n",
              "      border-left-color: var(--fill-color);\n",
              "    }\n",
              "    20% {\n",
              "      border-color: transparent;\n",
              "      border-left-color: var(--fill-color);\n",
              "      border-top-color: var(--fill-color);\n",
              "    }\n",
              "    30% {\n",
              "      border-color: transparent;\n",
              "      border-left-color: var(--fill-color);\n",
              "      border-top-color: var(--fill-color);\n",
              "      border-right-color: var(--fill-color);\n",
              "    }\n",
              "    40% {\n",
              "      border-color: transparent;\n",
              "      border-right-color: var(--fill-color);\n",
              "      border-top-color: var(--fill-color);\n",
              "    }\n",
              "    60% {\n",
              "      border-color: transparent;\n",
              "      border-right-color: var(--fill-color);\n",
              "    }\n",
              "    80% {\n",
              "      border-color: transparent;\n",
              "      border-right-color: var(--fill-color);\n",
              "      border-bottom-color: var(--fill-color);\n",
              "    }\n",
              "    90% {\n",
              "      border-color: transparent;\n",
              "      border-bottom-color: var(--fill-color);\n",
              "    }\n",
              "  }\n",
              "</style>\n",
              "\n",
              "      <script>\n",
              "        async function quickchart(key) {\n",
              "          const quickchartButtonEl =\n",
              "            document.querySelector('#' + key + ' button');\n",
              "          quickchartButtonEl.disabled = true;  // To prevent multiple clicks.\n",
              "          quickchartButtonEl.classList.add('colab-df-spinner');\n",
              "          try {\n",
              "            const charts = await google.colab.kernel.invokeFunction(\n",
              "                'suggestCharts', [key], {});\n",
              "          } catch (error) {\n",
              "            console.error('Error during call to suggestCharts:', error);\n",
              "          }\n",
              "          quickchartButtonEl.classList.remove('colab-df-spinner');\n",
              "          quickchartButtonEl.classList.add('colab-df-quickchart-complete');\n",
              "        }\n",
              "        (() => {\n",
              "          let quickchartButtonEl =\n",
              "            document.querySelector('#df-e8baaa0f-230c-43da-9392-723416425617 button');\n",
              "          quickchartButtonEl.style.display =\n",
              "            google.colab.kernel.accessAllowed ? 'block' : 'none';\n",
              "        })();\n",
              "      </script>\n",
              "    </div>\n",
              "\n",
              "    </div>\n",
              "  </div>\n"
            ],
            "application/vnd.google.colaboratory.intrinsic+json": {
              "type": "dataframe",
              "variable_name": "movies_df",
              "summary": "{\n  \"name\": \"movies_df\",\n  \"rows\": 4803,\n  \"fields\": [\n    {\n      \"column\": \"budget\",\n      \"properties\": {\n        \"dtype\": \"number\",\n        \"std\": 40722391,\n        \"min\": 0,\n        \"max\": 380000000,\n        \"num_unique_values\": 436,\n        \"samples\": [\n          439000,\n          68000000,\n          700000\n        ],\n        \"semantic_type\": \"\",\n        \"description\": \"\"\n      }\n    },\n    {\n      \"column\": \"genres\",\n      \"properties\": {\n        \"dtype\": \"category\",\n        \"num_unique_values\": 1175,\n        \"samples\": [\n          \"[{\\\"id\\\": 14, \\\"name\\\": \\\"Fantasy\\\"}, {\\\"id\\\": 12, \\\"name\\\": \\\"Adventure\\\"}, {\\\"id\\\": 16, \\\"name\\\": \\\"Animation\\\"}]\",\n          \"[{\\\"id\\\": 28, \\\"name\\\": \\\"Action\\\"}, {\\\"id\\\": 35, \\\"name\\\": \\\"Comedy\\\"}, {\\\"id\\\": 80, \\\"name\\\": \\\"Crime\\\"}, {\\\"id\\\": 18, \\\"name\\\": \\\"Drama\\\"}]\",\n          \"[{\\\"id\\\": 12, \\\"name\\\": \\\"Adventure\\\"}, {\\\"id\\\": 16, \\\"name\\\": \\\"Animation\\\"}, {\\\"id\\\": 10751, \\\"name\\\": \\\"Family\\\"}, {\\\"id\\\": 14, \\\"name\\\": \\\"Fantasy\\\"}, {\\\"id\\\": 878, \\\"name\\\": \\\"Science Fiction\\\"}]\"\n        ],\n        \"semantic_type\": \"\",\n        \"description\": \"\"\n      }\n    },\n    {\n      \"column\": \"homepage\",\n      \"properties\": {\n        \"dtype\": \"category\",\n        \"num_unique_values\": 1691,\n        \"samples\": [\n          \"https://www.warnerbros.com/running-scared\",\n          \"http://www.51birchstreet.com/index.php\",\n          \"http://movies2.foxjapan.com/glee/\"\n        ],\n        \"semantic_type\": \"\",\n        \"description\": \"\"\n      }\n    },\n    {\n      \"column\": \"id\",\n      \"properties\": {\n        \"dtype\": \"number\",\n        \"std\": 88694,\n        \"min\": 5,\n        \"max\": 459488,\n        \"num_unique_values\": 4803,\n        \"samples\": [\n          8427,\n          13006,\n          18041\n        ],\n        \"semantic_type\": \"\",\n        \"description\": \"\"\n      }\n    },\n    {\n      \"column\": \"keywords\",\n      \"properties\": {\n        \"dtype\": \"string\",\n        \"num_unique_values\": 4222,\n        \"samples\": [\n          \"[{\\\"id\\\": 782, \\\"name\\\": \\\"assassin\\\"}, {\\\"id\\\": 1872, \\\"name\\\": \\\"loss of father\\\"}, {\\\"id\\\": 2908, \\\"name\\\": \\\"secret society\\\"}, {\\\"id\\\": 3045, \\\"name\\\": \\\"mission of murder\\\"}, {\\\"id\\\": 9748, \\\"name\\\": \\\"revenge\\\"}]\",\n          \"[{\\\"id\\\": 2987, \\\"name\\\": \\\"gang war\\\"}, {\\\"id\\\": 4942, \\\"name\\\": \\\"victim of murder\\\"}, {\\\"id\\\": 5332, \\\"name\\\": \\\"greed\\\"}, {\\\"id\\\": 6062, \\\"name\\\": \\\"hostility\\\"}, {\\\"id\\\": 156212, \\\"name\\\": \\\"spaghetti western\\\"}]\",\n          \"[{\\\"id\\\": 703, \\\"name\\\": \\\"detective\\\"}, {\\\"id\\\": 1299, \\\"name\\\": \\\"monster\\\"}, {\\\"id\\\": 6101, \\\"name\\\": \\\"engine\\\"}, {\\\"id\\\": 10988, \\\"name\\\": \\\"based on tv series\\\"}, {\\\"id\\\": 15162, \\\"name\\\": \\\"dog\\\"}]\"\n        ],\n        \"semantic_type\": \"\",\n        \"description\": \"\"\n      }\n    },\n    {\n      \"column\": \"original_language\",\n      \"properties\": {\n        \"dtype\": \"category\",\n        \"num_unique_values\": 37,\n        \"samples\": [\n          \"xx\",\n          \"ta\",\n          \"es\"\n        ],\n        \"semantic_type\": \"\",\n        \"description\": \"\"\n      }\n    },\n    {\n      \"column\": \"original_title\",\n      \"properties\": {\n        \"dtype\": \"string\",\n        \"num_unique_values\": 4801,\n        \"samples\": [\n          \"I Spy\",\n          \"Love Letters\",\n          \"Sleepover\"\n        ],\n        \"semantic_type\": \"\",\n        \"description\": \"\"\n      }\n    },\n    {\n      \"column\": \"overview\",\n      \"properties\": {\n        \"dtype\": \"string\",\n        \"num_unique_values\": 4800,\n        \"samples\": [\n          \"When the Switchblade, the most sophisticated prototype stealth fighter created yet, is stolen from the U.S. government, one of the United States' top spies, Alex Scott, is called to action. What he doesn't expect is to get teamed up with a cocky civilian, World Class Boxing Champion Kelly Robinson, on a dangerous top secret espionage mission. Their assignment: using equal parts skill and humor, catch Arnold Gundars, one of the world's most successful arms dealers.\",\n          \"When \\\"street smart\\\" rapper Christopher \\\"C-Note\\\" Hawkins (Big Boi) applies for a membership to all-white Carolina Pines Country Club, the establishment's proprietors are hardly ready to oblige him.\",\n          \"As their first year of high school looms ahead, best friends Julie, Hannah, Yancy and Farrah have one last summer sleepover. Little do they know they're about to embark on the adventure of a lifetime. Desperate to shed their nerdy status, they take part in a night-long scavenger hunt that pits them against their popular archrivals. Everything under the sun goes on -- from taking Yancy's father's car to sneaking into nightclubs!\"\n        ],\n        \"semantic_type\": \"\",\n        \"description\": \"\"\n      }\n    },\n    {\n      \"column\": \"popularity\",\n      \"properties\": {\n        \"dtype\": \"number\",\n        \"std\": 31.816649749537806,\n        \"min\": 0.0,\n        \"max\": 875.581305,\n        \"num_unique_values\": 4802,\n        \"samples\": [\n          13.267631,\n          0.010909,\n          5.842299\n        ],\n        \"semantic_type\": \"\",\n        \"description\": \"\"\n      }\n    },\n    {\n      \"column\": \"production_companies\",\n      \"properties\": {\n        \"dtype\": \"string\",\n        \"num_unique_values\": 3697,\n        \"samples\": [\n          \"[{\\\"name\\\": \\\"Paramount Pictures\\\", \\\"id\\\": 4}, {\\\"name\\\": \\\"Cherry Alley Productions\\\", \\\"id\\\": 2232}]\",\n          \"[{\\\"name\\\": \\\"Twentieth Century Fox Film Corporation\\\", \\\"id\\\": 306}, {\\\"name\\\": \\\"Dune Entertainment\\\", \\\"id\\\": 444}, {\\\"name\\\": \\\"Regency Enterprises\\\", \\\"id\\\": 508}, {\\\"name\\\": \\\"Guy Walks into a Bar Productions\\\", \\\"id\\\": 2645}, {\\\"name\\\": \\\"Deep River Productions\\\", \\\"id\\\": 2646}, {\\\"name\\\": \\\"Friendly Films (II)\\\", \\\"id\\\": 81136}]\",\n          \"[{\\\"name\\\": \\\"Twentieth Century Fox Film Corporation\\\", \\\"id\\\": 306}]\"\n        ],\n        \"semantic_type\": \"\",\n        \"description\": \"\"\n      }\n    },\n    {\n      \"column\": \"production_countries\",\n      \"properties\": {\n        \"dtype\": \"category\",\n        \"num_unique_values\": 469,\n        \"samples\": [\n          \"[{\\\"iso_3166_1\\\": \\\"ES\\\", \\\"name\\\": \\\"Spain\\\"}, {\\\"iso_3166_1\\\": \\\"GB\\\", \\\"name\\\": \\\"United Kingdom\\\"}, {\\\"iso_3166_1\\\": \\\"US\\\", \\\"name\\\": \\\"United States of America\\\"}, {\\\"iso_3166_1\\\": \\\"FR\\\", \\\"name\\\": \\\"France\\\"}]\",\n          \"[{\\\"iso_3166_1\\\": \\\"US\\\", \\\"name\\\": \\\"United States of America\\\"}, {\\\"iso_3166_1\\\": \\\"CA\\\", \\\"name\\\": \\\"Canada\\\"}, {\\\"iso_3166_1\\\": \\\"DE\\\", \\\"name\\\": \\\"Germany\\\"}]\",\n          \"[{\\\"iso_3166_1\\\": \\\"DE\\\", \\\"name\\\": \\\"Germany\\\"}, {\\\"iso_3166_1\\\": \\\"ES\\\", \\\"name\\\": \\\"Spain\\\"}, {\\\"iso_3166_1\\\": \\\"GB\\\", \\\"name\\\": \\\"United Kingdom\\\"}, {\\\"iso_3166_1\\\": \\\"US\\\", \\\"name\\\": \\\"United States of America\\\"}]\"\n        ],\n        \"semantic_type\": \"\",\n        \"description\": \"\"\n      }\n    },\n    {\n      \"column\": \"release_date\",\n      \"properties\": {\n        \"dtype\": \"object\",\n        \"num_unique_values\": 3280,\n        \"samples\": [\n          \"1966-10-16\",\n          \"1987-07-31\",\n          \"1993-09-23\"\n        ],\n        \"semantic_type\": \"\",\n        \"description\": \"\"\n      }\n    },\n    {\n      \"column\": \"revenue\",\n      \"properties\": {\n        \"dtype\": \"number\",\n        \"std\": 162857100,\n        \"min\": 0,\n        \"max\": 2787965087,\n        \"num_unique_values\": 3297,\n        \"samples\": [\n          11833696,\n          10462500,\n          17807569\n        ],\n        \"semantic_type\": \"\",\n        \"description\": \"\"\n      }\n    },\n    {\n      \"column\": \"runtime\",\n      \"properties\": {\n        \"dtype\": \"number\",\n        \"std\": 22.611934588844207,\n        \"min\": 0.0,\n        \"max\": 338.0,\n        \"num_unique_values\": 156,\n        \"samples\": [\n          74.0,\n          85.0,\n          170.0\n        ],\n        \"semantic_type\": \"\",\n        \"description\": \"\"\n      }\n    },\n    {\n      \"column\": \"spoken_languages\",\n      \"properties\": {\n        \"dtype\": \"category\",\n        \"num_unique_values\": 544,\n        \"samples\": [\n          \"[{\\\"iso_639_1\\\": \\\"es\\\", \\\"name\\\": \\\"Espa\\\\u00f1ol\\\"}, {\\\"iso_639_1\\\": \\\"en\\\", \\\"name\\\": \\\"English\\\"}, {\\\"iso_639_1\\\": \\\"fr\\\", \\\"name\\\": \\\"Fran\\\\u00e7ais\\\"}, {\\\"iso_639_1\\\": \\\"hu\\\", \\\"name\\\": \\\"Magyar\\\"}]\",\n          \"[{\\\"iso_639_1\\\": \\\"en\\\", \\\"name\\\": \\\"English\\\"}, {\\\"iso_639_1\\\": \\\"it\\\", \\\"name\\\": \\\"Italiano\\\"}, {\\\"iso_639_1\\\": \\\"pt\\\", \\\"name\\\": \\\"Portugu\\\\u00eas\\\"}]\",\n          \"[{\\\"iso_639_1\\\": \\\"de\\\", \\\"name\\\": \\\"Deutsch\\\"}, {\\\"iso_639_1\\\": \\\"it\\\", \\\"name\\\": \\\"Italiano\\\"}, {\\\"iso_639_1\\\": \\\"la\\\", \\\"name\\\": \\\"Latin\\\"}, {\\\"iso_639_1\\\": \\\"pl\\\", \\\"name\\\": \\\"Polski\\\"}]\"\n        ],\n        \"semantic_type\": \"\",\n        \"description\": \"\"\n      }\n    },\n    {\n      \"column\": \"status\",\n      \"properties\": {\n        \"dtype\": \"category\",\n        \"num_unique_values\": 3,\n        \"samples\": [\n          \"Released\",\n          \"Post Production\",\n          \"Rumored\"\n        ],\n        \"semantic_type\": \"\",\n        \"description\": \"\"\n      }\n    },\n    {\n      \"column\": \"tagline\",\n      \"properties\": {\n        \"dtype\": \"string\",\n        \"num_unique_values\": 3944,\n        \"samples\": [\n          \"When you're 17, every day is war.\",\n          \"An Unspeakable Horror. A Creative Genius. Captured For Eternity.\",\n          \"May the schwartz be with you\"\n        ],\n        \"semantic_type\": \"\",\n        \"description\": \"\"\n      }\n    },\n    {\n      \"column\": \"title\",\n      \"properties\": {\n        \"dtype\": \"string\",\n        \"num_unique_values\": 4800,\n        \"samples\": [\n          \"I Spy\",\n          \"Who's Your Caddy?\",\n          \"Sleepover\"\n        ],\n        \"semantic_type\": \"\",\n        \"description\": \"\"\n      }\n    },\n    {\n      \"column\": \"vote_average\",\n      \"properties\": {\n        \"dtype\": \"number\",\n        \"std\": 1.1946121628478925,\n        \"min\": 0.0,\n        \"max\": 10.0,\n        \"num_unique_values\": 71,\n        \"samples\": [\n          5.1,\n          7.2,\n          4.0\n        ],\n        \"semantic_type\": \"\",\n        \"description\": \"\"\n      }\n    },\n    {\n      \"column\": \"vote_count\",\n      \"properties\": {\n        \"dtype\": \"number\",\n        \"std\": 1234,\n        \"min\": 0,\n        \"max\": 13752,\n        \"num_unique_values\": 1609,\n        \"samples\": [\n          7604,\n          3428,\n          225\n        ],\n        \"semantic_type\": \"\",\n        \"description\": \"\"\n      }\n    }\n  ]\n}"
            }
          },
          "metadata": {},
          "execution_count": 5
        }
      ]
    },
    {
      "cell_type": "markdown",
      "source": [
        "- beberapa kolom yang memiliki missing value seperti `homepage`,`release_date`,`runtime`,dan `tagline`\n",
        "- Tipe data didominasi oleh object: 13,integer: 4, dan Float: 3.\n",
        "- Memori yang digunakan sekitar 750.6+ KB untuk file `tmdb_5000_movies.csv`.\n",
        "- menampilkan 5 data paling atas."
      ],
      "metadata": {
        "id": "HVa3Oeld7Sx_"
      }
    },
    {
      "cell_type": "code",
      "source": [
        "print('banyak data:',len(movies_df.id.unique()))\n",
        "print('banyak jenis genre:',len(movies_df))\n",
        "print('jenis status film:',movies_df.status.unique())\n",
        "print('banyak vote dilakukan:',len(movies_df.vote_count.unique()))"
      ],
      "metadata": {
        "colab": {
          "base_uri": "https://localhost:8080/"
        },
        "id": "8CQVoa9Ql2vm",
        "outputId": "27077a46-bf57-47bd-b681-5ef45eb8ecf7"
      },
      "execution_count": null,
      "outputs": [
        {
          "output_type": "stream",
          "name": "stdout",
          "text": [
            "banyak data: 4803\n",
            "banyak jenis genre: 4803\n",
            "jenis status film: ['Released' 'Post Production' 'Rumored']\n",
            "banyak vote dilakukan: 1609\n"
          ]
        }
      ]
    },
    {
      "cell_type": "markdown",
      "source": [
        "- **Jumlah Data (Baris):** Terdapat 4803 entri atau baris data dalam dataset movies_df. Ini ditunjukkan oleh len(movies_df.id.unique()) dan len(movies_df). Menariknya, jumlah ID unik sama dengan jumlah total baris, yang mengindikasikan bahwa setiap film memiliki ID yang unik dan tidak ada duplikasi berdasarkan ID.\n",
        "\n",
        "- **Variasi Genre:** Meskipun ada 4803 baris data, len(movies_df) yang juga menghasilkan 4803 untuk \"banyak jenis genre\" menunjukkan bahwa setiap entri dalam dataset bisa jadi merepresentasikan satu genre atau ada entri duplikat yang dihitung sebagai \"jenis genre\" yang berbeda jika kolom genre tidak ditangani dengan benar (misalnya, jika genre adalah string yang berisi beberapa genre dipisahkan koma dan tidak dipecah). Jika \"banyak jenis genre\" dimaksudkan untuk menghitung genre unik, maka kode tersebut salah karena hanya menghitung jumlah baris. Namun, jika movies_df adalah DataFrame di mana setiap baris sudah merupakan entri untuk satu film (terlepas dari berapa banyak genre yang dimiliki satu film), dan pertanyaan \"banyak jenis genre\" sebenarnya ingin tahu berapa banyak film yang ada, maka hasilnya konsisten dengan jumlah data. Untuk mendapatkan jumlah genre unik, kita perlu melihat bagaimana kolom genre disimpan.\n",
        "\n",
        "- **Status Film:** Ada 3 jenis status film yang berbeda dalam dataset: 'Released', 'Post Production', dan 'Rumored'. Ini menunjukkan bahwa dataset mencakup film dalam berbagai tahap siklus produksinya.\n",
        "\n",
        "- **Variasi Jumlah Vote:** Terdapat 1609 nilai unik untuk kolom vote_count. Ini berarti bahwa meskipun ada 4803 film, tidak semua film memiliki jumlah vote yang berbeda. Ada beberapa film yang memiliki jumlah vote yang sama."
      ],
      "metadata": {
        "id": "Ww0tfcjc9cNQ"
      }
    },
    {
      "cell_type": "code",
      "source": [
        "print('banyak film di produksi dari berbagai perusahaan:',len(movies_df.production_companies.unique()))\n",
        "print('jenis perusahaan yang memproduksi film:',movies_df.production_companies.unique())"
      ],
      "metadata": {
        "colab": {
          "base_uri": "https://localhost:8080/"
        },
        "id": "LXqb65qOhbQ0",
        "outputId": "45bac89f-aa2a-404d-b9c7-13fb3ca49ce3"
      },
      "execution_count": null,
      "outputs": [
        {
          "output_type": "stream",
          "name": "stdout",
          "text": [
            "banyak film di produksi dari berbagai perusahaan: 3697\n",
            "jenis perusahaan yang memproduksi film: ['[{\"name\": \"Ingenious Film Partners\", \"id\": 289}, {\"name\": \"Twentieth Century Fox Film Corporation\", \"id\": 306}, {\"name\": \"Dune Entertainment\", \"id\": 444}, {\"name\": \"Lightstorm Entertainment\", \"id\": 574}]'\n",
            " '[{\"name\": \"Walt Disney Pictures\", \"id\": 2}, {\"name\": \"Jerry Bruckheimer Films\", \"id\": 130}, {\"name\": \"Second Mate Productions\", \"id\": 19936}]'\n",
            " '[{\"name\": \"Columbia Pictures\", \"id\": 5}, {\"name\": \"Danjaq\", \"id\": 10761}, {\"name\": \"B24\", \"id\": 69434}]'\n",
            " ...\n",
            " '[{\"name\": \"Asylum Films\", \"id\": 10571}, {\"name\": \"FM Entertainment\", \"id\": 26598}, {\"name\": \"Eagle Eye Films Inc.\", \"id\": 40739}]'\n",
            " '[{\"name\": \"Front Street Pictures\", \"id\": 3958}, {\"name\": \"Muse Entertainment Enterprises\", \"id\": 6438}]'\n",
            " '[{\"name\": \"rusty bear entertainment\", \"id\": 87986}, {\"name\": \"lucky crow films\", \"id\": 87987}]']\n"
          ]
        }
      ]
    },
    {
      "cell_type": "markdown",
      "source": [
        "- dapat diketahui bahwa produksi film dari berbagai perusahaan itu sebanyak 3697 film\n",
        "\n",
        "- mengetahui jenis perusahaan apa saja yang memproduksi film"
      ],
      "metadata": {
        "id": "3OWEbHyW-bqf"
      }
    },
    {
      "cell_type": "code",
      "source": [
        "print('banyak film yang di produksi dari berbagai negara:',len(movies_df.production_companies.unique()))\n",
        "print('banyak film yang diproduksi dari berbagai negara',movies_df.production_countries.value_counts())"
      ],
      "metadata": {
        "colab": {
          "base_uri": "https://localhost:8080/"
        },
        "id": "WXLWudEyo3Sz",
        "outputId": "2dde69db-8066-4ce4-f36a-cda50a094160"
      },
      "execution_count": null,
      "outputs": [
        {
          "output_type": "stream",
          "name": "stdout",
          "text": [
            "banyak film yang di produksi dari berbagai negara: 3697\n",
            "banyak film yang diproduksi dari berbagai negara production_countries\n",
            "[{\"iso_3166_1\": \"US\", \"name\": \"United States of America\"}]                                                                                    2977\n",
            "[{\"iso_3166_1\": \"GB\", \"name\": \"United Kingdom\"}, {\"iso_3166_1\": \"US\", \"name\": \"United States of America\"}]                                     181\n",
            "[]                                                                                                                                             174\n",
            "[{\"iso_3166_1\": \"GB\", \"name\": \"United Kingdom\"}]                                                                                               131\n",
            "[{\"iso_3166_1\": \"DE\", \"name\": \"Germany\"}, {\"iso_3166_1\": \"US\", \"name\": \"United States of America\"}]                                            119\n",
            "                                                                                                                                              ... \n",
            "[{\"iso_3166_1\": \"GB\", \"name\": \"United Kingdom\"}, {\"iso_3166_1\": \"ZA\", \"name\": \"South Africa\"}]                                                   1\n",
            "[{\"iso_3166_1\": \"US\", \"name\": \"United States of America\"}, {\"iso_3166_1\": \"FR\", \"name\": \"France\"}, {\"iso_3166_1\": \"MX\", \"name\": \"Mexico\"}]       1\n",
            "[{\"iso_3166_1\": \"MX\", \"name\": \"Mexico\"}, {\"iso_3166_1\": \"ES\", \"name\": \"Spain\"}]                                                                  1\n",
            "[{\"iso_3166_1\": \"LY\", \"name\": \"Libyan Arab Jamahiriya\"}, {\"iso_3166_1\": \"US\", \"name\": \"United States of America\"}]                               1\n",
            "[{\"iso_3166_1\": \"LU\", \"name\": \"Luxembourg\"}, {\"iso_3166_1\": \"US\", \"name\": \"United States of America\"}]                                           1\n",
            "Name: count, Length: 469, dtype: int64\n"
          ]
        }
      ]
    },
    {
      "cell_type": "markdown",
      "source": [
        "- dapat diketahui bahwa produksi film dari berbagai negara itu sebanyak 3697 film\n",
        "\n",
        "- mengetahui negara apa saja yang memproduksi sebuah film"
      ],
      "metadata": {
        "id": "n_b8AWJc-3Qu"
      }
    },
    {
      "cell_type": "code",
      "source": [
        "credits_df.info()\n",
        "credits_df.head()"
      ],
      "metadata": {
        "colab": {
          "base_uri": "https://localhost:8080/",
          "height": 397
        },
        "id": "Ig2kZnSm48fz",
        "outputId": "d4e7e195-ed35-4625-fa85-8bf67ee32798"
      },
      "execution_count": null,
      "outputs": [
        {
          "output_type": "stream",
          "name": "stdout",
          "text": [
            "<class 'pandas.core.frame.DataFrame'>\n",
            "RangeIndex: 4803 entries, 0 to 4802\n",
            "Data columns (total 4 columns):\n",
            " #   Column    Non-Null Count  Dtype \n",
            "---  ------    --------------  ----- \n",
            " 0   movie_id  4803 non-null   int64 \n",
            " 1   title     4803 non-null   object\n",
            " 2   cast      4803 non-null   object\n",
            " 3   crew      4803 non-null   object\n",
            "dtypes: int64(1), object(3)\n",
            "memory usage: 150.2+ KB\n"
          ]
        },
        {
          "output_type": "execute_result",
          "data": {
            "text/plain": [
              "   movie_id                                     title  \\\n",
              "0     19995                                    Avatar   \n",
              "1       285  Pirates of the Caribbean: At World's End   \n",
              "2    206647                                   Spectre   \n",
              "3     49026                     The Dark Knight Rises   \n",
              "4     49529                               John Carter   \n",
              "\n",
              "                                                cast  \\\n",
              "0  [{\"cast_id\": 242, \"character\": \"Jake Sully\", \"...   \n",
              "1  [{\"cast_id\": 4, \"character\": \"Captain Jack Spa...   \n",
              "2  [{\"cast_id\": 1, \"character\": \"James Bond\", \"cr...   \n",
              "3  [{\"cast_id\": 2, \"character\": \"Bruce Wayne / Ba...   \n",
              "4  [{\"cast_id\": 5, \"character\": \"John Carter\", \"c...   \n",
              "\n",
              "                                                crew  \n",
              "0  [{\"credit_id\": \"52fe48009251416c750aca23\", \"de...  \n",
              "1  [{\"credit_id\": \"52fe4232c3a36847f800b579\", \"de...  \n",
              "2  [{\"credit_id\": \"54805967c3a36829b5002c41\", \"de...  \n",
              "3  [{\"credit_id\": \"52fe4781c3a36847f81398c3\", \"de...  \n",
              "4  [{\"credit_id\": \"52fe479ac3a36847f813eaa3\", \"de...  "
            ],
            "text/html": [
              "\n",
              "  <div id=\"df-d9bafdc2-6227-43da-b1a6-b501744d6637\" class=\"colab-df-container\">\n",
              "    <div>\n",
              "<style scoped>\n",
              "    .dataframe tbody tr th:only-of-type {\n",
              "        vertical-align: middle;\n",
              "    }\n",
              "\n",
              "    .dataframe tbody tr th {\n",
              "        vertical-align: top;\n",
              "    }\n",
              "\n",
              "    .dataframe thead th {\n",
              "        text-align: right;\n",
              "    }\n",
              "</style>\n",
              "<table border=\"1\" class=\"dataframe\">\n",
              "  <thead>\n",
              "    <tr style=\"text-align: right;\">\n",
              "      <th></th>\n",
              "      <th>movie_id</th>\n",
              "      <th>title</th>\n",
              "      <th>cast</th>\n",
              "      <th>crew</th>\n",
              "    </tr>\n",
              "  </thead>\n",
              "  <tbody>\n",
              "    <tr>\n",
              "      <th>0</th>\n",
              "      <td>19995</td>\n",
              "      <td>Avatar</td>\n",
              "      <td>[{\"cast_id\": 242, \"character\": \"Jake Sully\", \"...</td>\n",
              "      <td>[{\"credit_id\": \"52fe48009251416c750aca23\", \"de...</td>\n",
              "    </tr>\n",
              "    <tr>\n",
              "      <th>1</th>\n",
              "      <td>285</td>\n",
              "      <td>Pirates of the Caribbean: At World's End</td>\n",
              "      <td>[{\"cast_id\": 4, \"character\": \"Captain Jack Spa...</td>\n",
              "      <td>[{\"credit_id\": \"52fe4232c3a36847f800b579\", \"de...</td>\n",
              "    </tr>\n",
              "    <tr>\n",
              "      <th>2</th>\n",
              "      <td>206647</td>\n",
              "      <td>Spectre</td>\n",
              "      <td>[{\"cast_id\": 1, \"character\": \"James Bond\", \"cr...</td>\n",
              "      <td>[{\"credit_id\": \"54805967c3a36829b5002c41\", \"de...</td>\n",
              "    </tr>\n",
              "    <tr>\n",
              "      <th>3</th>\n",
              "      <td>49026</td>\n",
              "      <td>The Dark Knight Rises</td>\n",
              "      <td>[{\"cast_id\": 2, \"character\": \"Bruce Wayne / Ba...</td>\n",
              "      <td>[{\"credit_id\": \"52fe4781c3a36847f81398c3\", \"de...</td>\n",
              "    </tr>\n",
              "    <tr>\n",
              "      <th>4</th>\n",
              "      <td>49529</td>\n",
              "      <td>John Carter</td>\n",
              "      <td>[{\"cast_id\": 5, \"character\": \"John Carter\", \"c...</td>\n",
              "      <td>[{\"credit_id\": \"52fe479ac3a36847f813eaa3\", \"de...</td>\n",
              "    </tr>\n",
              "  </tbody>\n",
              "</table>\n",
              "</div>\n",
              "    <div class=\"colab-df-buttons\">\n",
              "\n",
              "  <div class=\"colab-df-container\">\n",
              "    <button class=\"colab-df-convert\" onclick=\"convertToInteractive('df-d9bafdc2-6227-43da-b1a6-b501744d6637')\"\n",
              "            title=\"Convert this dataframe to an interactive table.\"\n",
              "            style=\"display:none;\">\n",
              "\n",
              "  <svg xmlns=\"http://www.w3.org/2000/svg\" height=\"24px\" viewBox=\"0 -960 960 960\">\n",
              "    <path d=\"M120-120v-720h720v720H120Zm60-500h600v-160H180v160Zm220 220h160v-160H400v160Zm0 220h160v-160H400v160ZM180-400h160v-160H180v160Zm440 0h160v-160H620v160ZM180-180h160v-160H180v160Zm440 0h160v-160H620v160Z\"/>\n",
              "  </svg>\n",
              "    </button>\n",
              "\n",
              "  <style>\n",
              "    .colab-df-container {\n",
              "      display:flex;\n",
              "      gap: 12px;\n",
              "    }\n",
              "\n",
              "    .colab-df-convert {\n",
              "      background-color: #E8F0FE;\n",
              "      border: none;\n",
              "      border-radius: 50%;\n",
              "      cursor: pointer;\n",
              "      display: none;\n",
              "      fill: #1967D2;\n",
              "      height: 32px;\n",
              "      padding: 0 0 0 0;\n",
              "      width: 32px;\n",
              "    }\n",
              "\n",
              "    .colab-df-convert:hover {\n",
              "      background-color: #E2EBFA;\n",
              "      box-shadow: 0px 1px 2px rgba(60, 64, 67, 0.3), 0px 1px 3px 1px rgba(60, 64, 67, 0.15);\n",
              "      fill: #174EA6;\n",
              "    }\n",
              "\n",
              "    .colab-df-buttons div {\n",
              "      margin-bottom: 4px;\n",
              "    }\n",
              "\n",
              "    [theme=dark] .colab-df-convert {\n",
              "      background-color: #3B4455;\n",
              "      fill: #D2E3FC;\n",
              "    }\n",
              "\n",
              "    [theme=dark] .colab-df-convert:hover {\n",
              "      background-color: #434B5C;\n",
              "      box-shadow: 0px 1px 3px 1px rgba(0, 0, 0, 0.15);\n",
              "      filter: drop-shadow(0px 1px 2px rgba(0, 0, 0, 0.3));\n",
              "      fill: #FFFFFF;\n",
              "    }\n",
              "  </style>\n",
              "\n",
              "    <script>\n",
              "      const buttonEl =\n",
              "        document.querySelector('#df-d9bafdc2-6227-43da-b1a6-b501744d6637 button.colab-df-convert');\n",
              "      buttonEl.style.display =\n",
              "        google.colab.kernel.accessAllowed ? 'block' : 'none';\n",
              "\n",
              "      async function convertToInteractive(key) {\n",
              "        const element = document.querySelector('#df-d9bafdc2-6227-43da-b1a6-b501744d6637');\n",
              "        const dataTable =\n",
              "          await google.colab.kernel.invokeFunction('convertToInteractive',\n",
              "                                                    [key], {});\n",
              "        if (!dataTable) return;\n",
              "\n",
              "        const docLinkHtml = 'Like what you see? Visit the ' +\n",
              "          '<a target=\"_blank\" href=https://colab.research.google.com/notebooks/data_table.ipynb>data table notebook</a>'\n",
              "          + ' to learn more about interactive tables.';\n",
              "        element.innerHTML = '';\n",
              "        dataTable['output_type'] = 'display_data';\n",
              "        await google.colab.output.renderOutput(dataTable, element);\n",
              "        const docLink = document.createElement('div');\n",
              "        docLink.innerHTML = docLinkHtml;\n",
              "        element.appendChild(docLink);\n",
              "      }\n",
              "    </script>\n",
              "  </div>\n",
              "\n",
              "\n",
              "    <div id=\"df-0167b19b-ed37-4574-8097-f256adcf5beb\">\n",
              "      <button class=\"colab-df-quickchart\" onclick=\"quickchart('df-0167b19b-ed37-4574-8097-f256adcf5beb')\"\n",
              "                title=\"Suggest charts\"\n",
              "                style=\"display:none;\">\n",
              "\n",
              "<svg xmlns=\"http://www.w3.org/2000/svg\" height=\"24px\"viewBox=\"0 0 24 24\"\n",
              "     width=\"24px\">\n",
              "    <g>\n",
              "        <path d=\"M19 3H5c-1.1 0-2 .9-2 2v14c0 1.1.9 2 2 2h14c1.1 0 2-.9 2-2V5c0-1.1-.9-2-2-2zM9 17H7v-7h2v7zm4 0h-2V7h2v10zm4 0h-2v-4h2v4z\"/>\n",
              "    </g>\n",
              "</svg>\n",
              "      </button>\n",
              "\n",
              "<style>\n",
              "  .colab-df-quickchart {\n",
              "      --bg-color: #E8F0FE;\n",
              "      --fill-color: #1967D2;\n",
              "      --hover-bg-color: #E2EBFA;\n",
              "      --hover-fill-color: #174EA6;\n",
              "      --disabled-fill-color: #AAA;\n",
              "      --disabled-bg-color: #DDD;\n",
              "  }\n",
              "\n",
              "  [theme=dark] .colab-df-quickchart {\n",
              "      --bg-color: #3B4455;\n",
              "      --fill-color: #D2E3FC;\n",
              "      --hover-bg-color: #434B5C;\n",
              "      --hover-fill-color: #FFFFFF;\n",
              "      --disabled-bg-color: #3B4455;\n",
              "      --disabled-fill-color: #666;\n",
              "  }\n",
              "\n",
              "  .colab-df-quickchart {\n",
              "    background-color: var(--bg-color);\n",
              "    border: none;\n",
              "    border-radius: 50%;\n",
              "    cursor: pointer;\n",
              "    display: none;\n",
              "    fill: var(--fill-color);\n",
              "    height: 32px;\n",
              "    padding: 0;\n",
              "    width: 32px;\n",
              "  }\n",
              "\n",
              "  .colab-df-quickchart:hover {\n",
              "    background-color: var(--hover-bg-color);\n",
              "    box-shadow: 0 1px 2px rgba(60, 64, 67, 0.3), 0 1px 3px 1px rgba(60, 64, 67, 0.15);\n",
              "    fill: var(--button-hover-fill-color);\n",
              "  }\n",
              "\n",
              "  .colab-df-quickchart-complete:disabled,\n",
              "  .colab-df-quickchart-complete:disabled:hover {\n",
              "    background-color: var(--disabled-bg-color);\n",
              "    fill: var(--disabled-fill-color);\n",
              "    box-shadow: none;\n",
              "  }\n",
              "\n",
              "  .colab-df-spinner {\n",
              "    border: 2px solid var(--fill-color);\n",
              "    border-color: transparent;\n",
              "    border-bottom-color: var(--fill-color);\n",
              "    animation:\n",
              "      spin 1s steps(1) infinite;\n",
              "  }\n",
              "\n",
              "  @keyframes spin {\n",
              "    0% {\n",
              "      border-color: transparent;\n",
              "      border-bottom-color: var(--fill-color);\n",
              "      border-left-color: var(--fill-color);\n",
              "    }\n",
              "    20% {\n",
              "      border-color: transparent;\n",
              "      border-left-color: var(--fill-color);\n",
              "      border-top-color: var(--fill-color);\n",
              "    }\n",
              "    30% {\n",
              "      border-color: transparent;\n",
              "      border-left-color: var(--fill-color);\n",
              "      border-top-color: var(--fill-color);\n",
              "      border-right-color: var(--fill-color);\n",
              "    }\n",
              "    40% {\n",
              "      border-color: transparent;\n",
              "      border-right-color: var(--fill-color);\n",
              "      border-top-color: var(--fill-color);\n",
              "    }\n",
              "    60% {\n",
              "      border-color: transparent;\n",
              "      border-right-color: var(--fill-color);\n",
              "    }\n",
              "    80% {\n",
              "      border-color: transparent;\n",
              "      border-right-color: var(--fill-color);\n",
              "      border-bottom-color: var(--fill-color);\n",
              "    }\n",
              "    90% {\n",
              "      border-color: transparent;\n",
              "      border-bottom-color: var(--fill-color);\n",
              "    }\n",
              "  }\n",
              "</style>\n",
              "\n",
              "      <script>\n",
              "        async function quickchart(key) {\n",
              "          const quickchartButtonEl =\n",
              "            document.querySelector('#' + key + ' button');\n",
              "          quickchartButtonEl.disabled = true;  // To prevent multiple clicks.\n",
              "          quickchartButtonEl.classList.add('colab-df-spinner');\n",
              "          try {\n",
              "            const charts = await google.colab.kernel.invokeFunction(\n",
              "                'suggestCharts', [key], {});\n",
              "          } catch (error) {\n",
              "            console.error('Error during call to suggestCharts:', error);\n",
              "          }\n",
              "          quickchartButtonEl.classList.remove('colab-df-spinner');\n",
              "          quickchartButtonEl.classList.add('colab-df-quickchart-complete');\n",
              "        }\n",
              "        (() => {\n",
              "          let quickchartButtonEl =\n",
              "            document.querySelector('#df-0167b19b-ed37-4574-8097-f256adcf5beb button');\n",
              "          quickchartButtonEl.style.display =\n",
              "            google.colab.kernel.accessAllowed ? 'block' : 'none';\n",
              "        })();\n",
              "      </script>\n",
              "    </div>\n",
              "\n",
              "    </div>\n",
              "  </div>\n"
            ],
            "application/vnd.google.colaboratory.intrinsic+json": {
              "type": "dataframe",
              "variable_name": "credits_df",
              "summary": "{\n  \"name\": \"credits_df\",\n  \"rows\": 4803,\n  \"fields\": [\n    {\n      \"column\": \"movie_id\",\n      \"properties\": {\n        \"dtype\": \"number\",\n        \"std\": 88694,\n        \"min\": 5,\n        \"max\": 459488,\n        \"num_unique_values\": 4803,\n        \"samples\": [\n          8427,\n          13006,\n          18041\n        ],\n        \"semantic_type\": \"\",\n        \"description\": \"\"\n      }\n    },\n    {\n      \"column\": \"title\",\n      \"properties\": {\n        \"dtype\": \"string\",\n        \"num_unique_values\": 4800,\n        \"samples\": [\n          \"I Spy\",\n          \"Who's Your Caddy?\",\n          \"Sleepover\"\n        ],\n        \"semantic_type\": \"\",\n        \"description\": \"\"\n      }\n    },\n    {\n      \"column\": \"cast\",\n      \"properties\": {\n        \"dtype\": \"string\",\n        \"num_unique_values\": 4761,\n        \"samples\": [\n          \"[{\\\"cast_id\\\": 1, \\\"character\\\": \\\"Joshua \\\\\\\"Josh\\\\\\\" Baskin\\\", \\\"credit_id\\\": \\\"52fe4349c3a36847f8048ac3\\\", \\\"gender\\\": 2, \\\"id\\\": 31, \\\"name\\\": \\\"Tom Hanks\\\", \\\"order\\\": 0}, {\\\"cast_id\\\": 2, \\\"character\\\": \\\"Susan\\\", \\\"credit_id\\\": \\\"52fe4349c3a36847f8048ac7\\\", \\\"gender\\\": 1, \\\"id\\\": 20, \\\"name\\\": \\\"Elizabeth Perkins\\\", \\\"order\\\": 1}, {\\\"cast_id\\\": 3, \\\"character\\\": \\\"MacMillan\\\", \\\"credit_id\\\": \\\"52fe4349c3a36847f8048acb\\\", \\\"gender\\\": 2, \\\"id\\\": 1162, \\\"name\\\": \\\"Robert Loggia\\\", \\\"order\\\": 2}, {\\\"cast_id\\\": 4, \\\"character\\\": \\\"Paul\\\", \\\"credit_id\\\": \\\"52fe4349c3a36847f8048acf\\\", \\\"gender\\\": 2, \\\"id\\\": 11512, \\\"name\\\": \\\"John Heard\\\", \\\"order\\\": 3}, {\\\"cast_id\\\": 16, \\\"character\\\": \\\"Billy\\\", \\\"credit_id\\\": \\\"52fe4349c3a36847f8048b11\\\", \\\"gender\\\": 2, \\\"id\\\": 57422, \\\"name\\\": \\\"Jared Rushton\\\", \\\"order\\\": 4}, {\\\"cast_id\\\": 17, \\\"character\\\": \\\"Young Josh\\\", \\\"credit_id\\\": \\\"52fe4349c3a36847f8048b15\\\", \\\"gender\\\": 2, \\\"id\\\": 62123, \\\"name\\\": \\\"David Moscow\\\", \\\"order\\\": 5}, {\\\"cast_id\\\": 5, \\\"character\\\": \\\"Scotty Brennen\\\", \\\"credit_id\\\": \\\"52fe4349c3a36847f8048ad3\\\", \\\"gender\\\": 2, \\\"id\\\": 16165, \\\"name\\\": \\\"Jon Lovitz\\\", \\\"order\\\": 6}, {\\\"cast_id\\\": 6, \\\"character\\\": \\\"Mrs. Baskin\\\", \\\"credit_id\\\": \\\"52fe4349c3a36847f8048ad7\\\", \\\"gender\\\": 1, \\\"id\\\": 2167, \\\"name\\\": \\\"Mercedes Ruehl\\\", \\\"order\\\": 7}, {\\\"cast_id\\\": 18, \\\"character\\\": \\\"Mr. Baskin\\\", \\\"credit_id\\\": \\\"52fe4349c3a36847f8048b19\\\", \\\"gender\\\": 2, \\\"id\\\": 143205, \\\"name\\\": \\\"Josh Clark\\\", \\\"order\\\": 8}, {\\\"cast_id\\\": 22, \\\"character\\\": \\\"Gym Teacher\\\", \\\"credit_id\\\": \\\"52fe4349c3a36847f8048b29\\\", \\\"gender\\\": 2, \\\"id\\\": 123728, \\\"name\\\": \\\"Allan Wasserman\\\", \\\"order\\\": 9}, {\\\"cast_id\\\": 19, \\\"character\\\": \\\"Cynthia Benson\\\", \\\"credit_id\\\": \\\"52fe4349c3a36847f8048b1d\\\", \\\"gender\\\": 0, \\\"id\\\": 1073814, \\\"name\\\": \\\"Kimberlee M. Davis\\\", \\\"order\\\": 10}, {\\\"cast_id\\\": 20, \\\"character\\\": \\\"Freddie Benson\\\", \\\"credit_id\\\": \\\"52fe4349c3a36847f8048b21\\\", \\\"gender\\\": 0, \\\"id\\\": 1073816, \\\"name\\\": \\\"Oliver Block\\\", \\\"order\\\": 11}, {\\\"cast_id\\\": 21, \\\"character\\\": \\\"Cynthia's Friend\\\", \\\"credit_id\\\": \\\"52fe4349c3a36847f8048b25\\\", \\\"gender\\\": 0, \\\"id\\\": 80138, \\\"name\\\": \\\"Erika Katz\\\", \\\"order\\\": 12}, {\\\"cast_id\\\": 23, \\\"character\\\": \\\"Derek\\\", \\\"credit_id\\\": \\\"52fe4349c3a36847f8048b2d\\\", \\\"gender\\\": 2, \\\"id\\\": 166788, \\\"name\\\": \\\"Mark Ballou\\\", \\\"order\\\": 13}, {\\\"cast_id\\\": 24, \\\"character\\\": \\\"Ticket Taker\\\", \\\"credit_id\\\": \\\"52fe4349c3a36847f8048b31\\\", \\\"gender\\\": 0, \\\"id\\\": 994134, \\\"name\\\": \\\"Gary Howard Klar\\\", \\\"order\\\": 14}]\",\n          \"[{\\\"cast_id\\\": 3, \\\"character\\\": \\\"Richard O'Connell\\\", \\\"credit_id\\\": \\\"52fe4312c3a36847f8038407\\\", \\\"gender\\\": 2, \\\"id\\\": 18269, \\\"name\\\": \\\"Brendan Fraser\\\", \\\"order\\\": 0}, {\\\"cast_id\\\": 4, \\\"character\\\": \\\"Evelyn Carnahan O'Connell/Princess Nefertiri\\\", \\\"credit_id\\\": \\\"52fe4312c3a36847f803840b\\\", \\\"gender\\\": 1, \\\"id\\\": 3293, \\\"name\\\": \\\"Rachel Weisz\\\", \\\"order\\\": 1}, {\\\"cast_id\\\": 5, \\\"character\\\": \\\"Jonathan Carnahan\\\", \\\"credit_id\\\": \\\"52fe4312c3a36847f803840f\\\", \\\"gender\\\": 2, \\\"id\\\": 10727, \\\"name\\\": \\\"John Hannah\\\", \\\"order\\\": 2}, {\\\"cast_id\\\": 6, \\\"character\\\": \\\"High Priest Imhotep\\\", \\\"credit_id\\\": \\\"52fe4312c3a36847f8038413\\\", \\\"gender\\\": 2, \\\"id\\\": 16743, \\\"name\\\": \\\"Arnold Vosloo\\\", \\\"order\\\": 3}, {\\\"cast_id\\\": 7, \\\"character\\\": \\\"Ardeth Bay\\\", \\\"credit_id\\\": \\\"52fe4312c3a36847f8038417\\\", \\\"gender\\\": 2, \\\"id\\\": 18041, \\\"name\\\": \\\"Oded Fehr\\\", \\\"order\\\": 4}, {\\\"cast_id\\\": 8, \\\"character\\\": \\\"Mathayus the Scorpion King\\\", \\\"credit_id\\\": \\\"52fe4312c3a36847f803841b\\\", \\\"gender\\\": 2, \\\"id\\\": 18918, \\\"name\\\": \\\"Dwayne Johnson\\\", \\\"order\\\": 5}, {\\\"cast_id\\\": 9, \\\"character\\\": \\\"Alexander O'Connell\\\", \\\"credit_id\\\": \\\"52fe4312c3a36847f803841f\\\", \\\"gender\\\": 2, \\\"id\\\": 18919, \\\"name\\\": \\\"Freddie Boath\\\", \\\"order\\\": 6}, {\\\"cast_id\\\": 10, \\\"character\\\": \\\"Meela Nais/Anck Su Namun\\\", \\\"credit_id\\\": \\\"52fe4312c3a36847f8038423\\\", \\\"gender\\\": 1, \\\"id\\\": 18920, \\\"name\\\": \\\"Patricia Vel\\\\u00e1squez\\\", \\\"order\\\": 7}, {\\\"cast_id\\\": 17, \\\"character\\\": \\\"Baltus Hafez\\\", \\\"credit_id\\\": \\\"52fe4312c3a36847f803844b\\\", \\\"gender\\\": 2, \\\"id\\\": 2629, \\\"name\\\": \\\"Alun Armstrong\\\", \\\"order\\\": 8}, {\\\"cast_id\\\": 18, \\\"character\\\": \\\"Lock-Nah\\\", \\\"credit_id\\\": \\\"52fe4312c3a36847f803844f\\\", \\\"gender\\\": 2, \\\"id\\\": 31164, \\\"name\\\": \\\"Adewale Akinnuoye-Agbaje\\\", \\\"order\\\": 9}, {\\\"cast_id\\\": 19, \\\"character\\\": \\\"Izzy Buttons\\\", \\\"credit_id\\\": \\\"52fe4312c3a36847f8038453\\\", \\\"gender\\\": 2, \\\"id\\\": 30316, \\\"name\\\": \\\"Shaun Parkes\\\", \\\"order\\\": 10}, {\\\"cast_id\\\": 20, \\\"character\\\": \\\"Red\\\", \\\"credit_id\\\": \\\"52fe4312c3a36847f8038457\\\", \\\"gender\\\": 0, \\\"id\\\": 25675, \\\"name\\\": \\\"Bruce Byron\\\", \\\"order\\\": 11}, {\\\"cast_id\\\": 21, \\\"character\\\": \\\"Jacques\\\", \\\"credit_id\\\": \\\"52fe4312c3a36847f803845b\\\", \\\"gender\\\": 0, \\\"id\\\": 1010264, \\\"name\\\": \\\"Joe Dixon\\\", \\\"order\\\": 12}, {\\\"cast_id\\\": 22, \\\"character\\\": \\\"Spivey\\\", \\\"credit_id\\\": \\\"52fe4312c3a36847f803845f\\\", \\\"gender\\\": 2, \\\"id\\\": 208211, \\\"name\\\": \\\"Thomas Fisher\\\", \\\"order\\\": 13}, {\\\"cast_id\\\": 23, \\\"character\\\": \\\"Pharaoh Seti I\\\", \\\"credit_id\\\": \\\"52fe4312c3a36847f8038463\\\", \\\"gender\\\": 2, \\\"id\\\": 25808, \\\"name\\\": \\\"Aharon Ipal\\\\u00e9\\\", \\\"order\\\": 14}, {\\\"cast_id\\\": 24, \\\"character\\\": \\\"Shafek\\\", \\\"credit_id\\\": \\\"52fe4312c3a36847f8038467\\\", \\\"gender\\\": 0, \\\"id\\\": 178631, \\\"name\\\": \\\"Quill Roberts\\\", \\\"order\\\": 15}, {\\\"cast_id\\\": 25, \\\"character\\\": \\\"Showgirl with Jonathan\\\", \\\"credit_id\\\": \\\"52fe4312c3a36847f803846b\\\", \\\"gender\\\": 1, \\\"id\\\": 120886, \\\"name\\\": \\\"Donna Air\\\", \\\"order\\\": 16}, {\\\"cast_id\\\": 26, \\\"character\\\": \\\"Mountain of Flesh\\\", \\\"credit_id\\\": \\\"52fe4312c3a36847f803846f\\\", \\\"gender\\\": 0, \\\"id\\\": 1077874, \\\"name\\\": \\\"Trevor Lovell\\\", \\\"order\\\": 17}, {\\\"cast_id\\\": 30, \\\"character\\\": \\\"Spivey\\\", \\\"credit_id\\\": \\\"536222b20e0a2649a900146a\\\", \\\"gender\\\": 0, \\\"id\\\": 27678, \\\"name\\\": \\\"Tom Fisher\\\", \\\"order\\\": 18}]\",\n          \"[{\\\"cast_id\\\": 2, \\\"character\\\": \\\"Donna Keppel\\\", \\\"credit_id\\\": \\\"52fe44b0c3a36847f80a478f\\\", \\\"gender\\\": 1, \\\"id\\\": 29221, \\\"name\\\": \\\"Brittany Snow\\\", \\\"order\\\": 0}, {\\\"cast_id\\\": 3, \\\"character\\\": \\\"Bobby\\\", \\\"credit_id\\\": \\\"52fe44b0c3a36847f80a4793\\\", \\\"gender\\\": 2, \\\"id\\\": 53368, \\\"name\\\": \\\"Scott Porter\\\", \\\"order\\\": 1}, {\\\"cast_id\\\": 4, \\\"character\\\": \\\"Claire\\\", \\\"credit_id\\\": \\\"52fe44b0c3a36847f80a4797\\\", \\\"gender\\\": 1, \\\"id\\\": 55463, \\\"name\\\": \\\"Jessica Stroup\\\", \\\"order\\\": 2}, {\\\"cast_id\\\": 5, \\\"character\\\": \\\"Lisa Hines\\\", \\\"credit_id\\\": \\\"52fe44b0c3a36847f80a479b\\\", \\\"gender\\\": 1, \\\"id\\\": 39556, \\\"name\\\": \\\"Dana Davis\\\", \\\"order\\\": 3}, {\\\"cast_id\\\": 6, \\\"character\\\": \\\"Michael\\\", \\\"credit_id\\\": \\\"52fe44b0c3a36847f80a479f\\\", \\\"gender\\\": 2, \\\"id\\\": 55464, \\\"name\\\": \\\"Kelly Blatz\\\", \\\"order\\\": 4}, {\\\"cast_id\\\": 7, \\\"character\\\": \\\"Ronnie Heflin\\\", \\\"credit_id\\\": \\\"52fe44b0c3a36847f80a47a3\\\", \\\"gender\\\": 2, \\\"id\\\": 53652, \\\"name\\\": \\\"Collins Pennie\\\", \\\"order\\\": 5}, {\\\"cast_id\\\": 8, \\\"character\\\": \\\"Richard Fenton\\\", \\\"credit_id\\\": \\\"52fe44b0c3a36847f80a47a7\\\", \\\"gender\\\": 2, \\\"id\\\": 51670, \\\"name\\\": \\\"Johnathon Schaech\\\", \\\"order\\\": 6}, {\\\"cast_id\\\": 24, \\\"character\\\": \\\"Detective Winn\\\", \\\"credit_id\\\": \\\"52fe44b0c3a36847f80a47f3\\\", \\\"gender\\\": 2, \\\"id\\\": 17605, \\\"name\\\": \\\"Idris Elba\\\", \\\"order\\\": 7}, {\\\"cast_id\\\": 28, \\\"character\\\": \\\"Dr. Elisha Crowe\\\", \\\"credit_id\\\": \\\"52fe44b0c3a36847f80a4809\\\", \\\"gender\\\": 1, \\\"id\\\": 21702, \\\"name\\\": \\\"Ming-Na Wen\\\", \\\"order\\\": 8}, {\\\"cast_id\\\": 29, \\\"character\\\": \\\"Aunt Karen Turner\\\", \\\"credit_id\\\": \\\"52fe44b0c3a36847f80a480d\\\", \\\"gender\\\": 1, \\\"id\\\": 7523, \\\"name\\\": \\\"Jessalyn Gilsig\\\", \\\"order\\\": 9}, {\\\"cast_id\\\": 30, \\\"character\\\": \\\"Rick Leland\\\", \\\"credit_id\\\": \\\"53e94dbc0e0a2654fd000009\\\", \\\"gender\\\": 2, \\\"id\\\": 34502, \\\"name\\\": \\\"Kellan Lutz\\\", \\\"order\\\": 10}, {\\\"cast_id\\\": 31, \\\"character\\\": \\\"Detective Nash\\\", \\\"credit_id\\\": \\\"53e94e36c3a3687ffa00000e\\\", \\\"gender\\\": 2, \\\"id\\\": 5296, \\\"name\\\": \\\"James Ransone\\\", \\\"order\\\": 11}, {\\\"cast_id\\\": 32, \\\"character\\\": \\\"Ms. Waters\\\", \\\"credit_id\\\": \\\"53e94e940e0a2654fd00001e\\\", \\\"gender\\\": 1, \\\"id\\\": 96554, \\\"name\\\": \\\"Mary Mara\\\", \\\"order\\\": 12}, {\\\"cast_id\\\": 33, \\\"character\\\": \\\"Dancer\\\", \\\"credit_id\\\": \\\"56d207d7c3a3681e4400b3de\\\", \\\"gender\\\": 1, \\\"id\\\": 159913, \\\"name\\\": \\\"Allison Kyler\\\", \\\"order\\\": 13}, {\\\"cast_id\\\": 34, \\\"character\\\": \\\"Officer Hicks\\\", \\\"credit_id\\\": \\\"57dd7339925141784a00050e\\\", \\\"gender\\\": 2, \\\"id\\\": 66560, \\\"name\\\": \\\"Craig Susser\\\", \\\"order\\\": 14}, {\\\"cast_id\\\": 43, \\\"character\\\": \\\"Mrs. Hines\\\", \\\"credit_id\\\": \\\"58c7285fc3a3683dd7001c0d\\\", \\\"gender\\\": 0, \\\"id\\\": 155435, \\\"name\\\": \\\"Valeri Ross\\\", \\\"order\\\": 15}, {\\\"cast_id\\\": 44, \\\"character\\\": \\\"Crissy Lynn\\\", \\\"credit_id\\\": \\\"590c3264c3a36801c60092ea\\\", \\\"gender\\\": 1, \\\"id\\\": 115126, \\\"name\\\": \\\"Brianne Davis\\\", \\\"order\\\": 16}, {\\\"cast_id\\\": 45, \\\"character\\\": \\\"Uncle Jack Turner\\\", \\\"credit_id\\\": \\\"590c32f1c3a36801c60093a5\\\", \\\"gender\\\": 2, \\\"id\\\": 57251, \\\"name\\\": \\\"Linden Ashby\\\", \\\"order\\\": 17}, {\\\"cast_id\\\": 46, \\\"character\\\": \\\"April\\\", \\\"credit_id\\\": \\\"590c336c9251415a8b009abc\\\", \\\"gender\\\": 1, \\\"id\\\": 92856, \\\"name\\\": \\\"Jana Kramer\\\", \\\"order\\\": 18}, {\\\"cast_id\\\": 47, \\\"character\\\": \\\"Taylor\\\", \\\"credit_id\\\": \\\"590c33b49251415a67009232\\\", \\\"gender\\\": 1, \\\"id\\\": 88038, \\\"name\\\": \\\"Rachel Specter\\\", \\\"order\\\": 19}, {\\\"cast_id\\\": 48, \\\"character\\\": \\\"Mrs. Keppel\\\", \\\"credit_id\\\": \\\"590c340a9251415a5e0090fa\\\", \\\"gender\\\": 1, \\\"id\\\": 15010, \\\"name\\\": \\\"Lori Heuring\\\", \\\"order\\\": 20}, {\\\"cast_id\\\": 49, \\\"character\\\": \\\"DJ Tyler\\\", \\\"credit_id\\\": \\\"590c3499c3a3680148009300\\\", \\\"gender\\\": 0, \\\"id\\\": 1627987, \\\"name\\\": \\\"Jay Phillips\\\", \\\"order\\\": 21}, {\\\"cast_id\\\": 61, \\\"character\\\": \\\"Bellhop\\\", \\\"credit_id\\\": \\\"590c397a9251415a8b009fca\\\", \\\"gender\\\": 2, \\\"id\\\": 26852, \\\"name\\\": \\\"Joshua Leonard\\\", \\\"order\\\": 22}]\"\n        ],\n        \"semantic_type\": \"\",\n        \"description\": \"\"\n      }\n    },\n    {\n      \"column\": \"crew\",\n      \"properties\": {\n        \"dtype\": \"string\",\n        \"num_unique_values\": 4776,\n        \"samples\": [\n          \"[{\\\"credit_id\\\": \\\"538d82720e0a26670e005e83\\\", \\\"department\\\": \\\"Editing\\\", \\\"gender\\\": 2, \\\"id\\\": 898, \\\"job\\\": \\\"Editor\\\", \\\"name\\\": \\\"Mark Goldblatt\\\"}, {\\\"credit_id\\\": \\\"538d82860e0a266702005de5\\\", \\\"department\\\": \\\"Editing\\\", \\\"gender\\\": 2, \\\"id\\\": 1098, \\\"job\\\": \\\"Editor\\\", \\\"name\\\": \\\"Mark Helfrich\\\"}, {\\\"credit_id\\\": \\\"538d820c0e0a266708006129\\\", \\\"department\\\": \\\"Production\\\", \\\"gender\\\": 0, \\\"id\\\": 2095, \\\"job\\\": \\\"Producer\\\", \\\"name\\\": \\\"Ralph Winter\\\"}, {\\\"credit_id\\\": \\\"538d82d30e0a266712005def\\\", \\\"department\\\": \\\"Production\\\", \\\"gender\\\": 2, \\\"id\\\": 2624, \\\"job\\\": \\\"Casting\\\", \\\"name\\\": \\\"Richard Pagano\\\"}, {\\\"credit_id\\\": \\\"538d82ea0e0a266715005e74\\\", \\\"department\\\": \\\"Art\\\", \\\"gender\\\": 2, \\\"id\\\": 4953, \\\"job\\\": \\\"Production Design\\\", \\\"name\\\": \\\"Ed Verreaux\\\"}, {\\\"credit_id\\\": \\\"538d82ad0e0a26670800614d\\\", \\\"department\\\": \\\"Production\\\", \\\"gender\\\": 1, \\\"id\\\": 5362, \\\"job\\\": \\\"Casting\\\", \\\"name\\\": \\\"Heike Brandstatter\\\"}, {\\\"credit_id\\\": \\\"538d82c00e0a266705005fa2\\\", \\\"department\\\": \\\"Production\\\", \\\"gender\\\": 1, \\\"id\\\": 5363, \\\"job\\\": \\\"Casting\\\", \\\"name\\\": \\\"Coreen Mayrs\\\"}, {\\\"credit_id\\\": \\\"538d845ec3a368713c0047d2\\\", \\\"department\\\": \\\"Costume & Make-Up\\\", \\\"gender\\\": 0, \\\"id\\\": 6924, \\\"job\\\": \\\"Costume Supervisor\\\", \\\"name\\\": \\\"Dan Moore\\\"}, {\\\"credit_id\\\": \\\"538d81ef0e0a266718005cb8\\\", \\\"department\\\": \\\"Production\\\", \\\"gender\\\": 1, \\\"id\\\": 7200, \\\"job\\\": \\\"Producer\\\", \\\"name\\\": \\\"Lauren Shuler Donner\\\"}, {\\\"credit_id\\\": \\\"576710bec3a36806720004b0\\\", \\\"department\\\": \\\"Production\\\", \\\"gender\\\": 2, \\\"id\\\": 7624, \\\"job\\\": \\\"Executive Producer\\\", \\\"name\\\": \\\"Stan Lee\\\"}, {\\\"credit_id\\\": \\\"538d81d80e0a266715005e4d\\\", \\\"department\\\": \\\"Production\\\", \\\"gender\\\": 2, \\\"id\\\": 7626, \\\"job\\\": \\\"Producer\\\", \\\"name\\\": \\\"Avi Arad\\\"}, {\\\"credit_id\\\": \\\"5767101092514165c20000db\\\", \\\"department\\\": \\\"Production\\\", \\\"gender\\\": 2, \\\"id\\\": 10850, \\\"job\\\": \\\"Executive Producer\\\", \\\"name\\\": \\\"Kevin Feige\\\"}, {\\\"credit_id\\\": \\\"538d83ba0e0a26670b005ded\\\", \\\"department\\\": \\\"Costume & Make-Up\\\", \\\"gender\\\": 1, \\\"id\\\": 10970, \\\"job\\\": \\\"Costume Design\\\", \\\"name\\\": \\\"Judianna Makovsky\\\"}, {\\\"credit_id\\\": \\\"538d83620e0a266715005e82\\\", \\\"department\\\": \\\"Art\\\", \\\"gender\\\": 2, \\\"id\\\": 10549, \\\"job\\\": \\\"Art Direction\\\", \\\"name\\\": \\\"Justin Scoppa Jr.\\\"}, {\\\"credit_id\\\": \\\"5626465bc3a3680e0e01704b\\\", \\\"department\\\": \\\"Sound\\\", \\\"gender\\\": 2, \\\"id\\\": 11098, \\\"job\\\": \\\"Original Music Composer\\\", \\\"name\\\": \\\"John Powell\\\"}, {\\\"credit_id\\\": \\\"52fe45ff9251416c910459e1\\\", \\\"department\\\": \\\"Writing\\\", \\\"gender\\\": 2, \\\"id\\\": 11092, \\\"job\\\": \\\"Screenplay\\\", \\\"name\\\": \\\"Simon Kinberg\\\"}, {\\\"credit_id\\\": \\\"56abe4ecc3a3681c47003aa3\\\", \\\"department\\\": \\\"Crew\\\", \\\"gender\\\": 2, \\\"id\\\": 15017, \\\"job\\\": \\\"Makeup Effects\\\", \\\"name\\\": \\\"Bill Corso\\\"}, {\\\"credit_id\\\": \\\"538d82560e0a266705005f94\\\", \\\"department\\\": \\\"Camera\\\", \\\"gender\\\": 2, \\\"id\\\": 11099, \\\"job\\\": \\\"Director of Photography\\\", \\\"name\\\": \\\"Dante Spinotti\\\"}, {\\\"credit_id\\\": \\\"52fe45ff9251416c910459e7\\\", \\\"department\\\": \\\"Writing\\\", \\\"gender\\\": 2, \\\"id\\\": 11011, \\\"job\\\": \\\"Screenplay\\\", \\\"name\\\": \\\"Zak Penn\\\"}, {\\\"credit_id\\\": \\\"52fe45ff9251416c910459db\\\", \\\"department\\\": \\\"Directing\\\", \\\"gender\\\": 2, \\\"id\\\": 11091, \\\"job\\\": \\\"Director\\\", \\\"name\\\": \\\"Brett Ratner\\\"}, {\\\"credit_id\\\": \\\"538d834f0e0a266712005dfe\\\", \\\"department\\\": \\\"Art\\\", \\\"gender\\\": 1, \\\"id\\\": 22061, \\\"job\\\": \\\"Art Direction\\\", \\\"name\\\": \\\"Helen Jarvis\\\"}, {\\\"credit_id\\\": \\\"538d83a50e0a266715005e8b\\\", \\\"department\\\": \\\"Art\\\", \\\"gender\\\": 1, \\\"id\\\": 11021, \\\"job\\\": \\\"Set Decoration\\\", \\\"name\\\": \\\"Elizabeth Wilcox\\\"}, {\\\"credit_id\\\": \\\"538d83220e0a266702005df6\\\", \\\"department\\\": \\\"Art\\\", \\\"gender\\\": 0, \\\"id\\\": 11102, \\\"job\\\": \\\"Art Direction\\\", \\\"name\\\": \\\"Chad S. Frey\\\"}, {\\\"credit_id\\\": \\\"570b8dde9251412c740020d0\\\", \\\"department\\\": \\\"Art\\\", \\\"gender\\\": 0, \\\"id\\\": 46082, \\\"job\\\": \\\"Supervising Art Director\\\", \\\"name\\\": \\\"Geoff Hubbard\\\"}, {\\\"credit_id\\\": \\\"538d83ce0e0a266702005e02\\\", \\\"department\\\": \\\"Costume & Make-Up\\\", \\\"gender\\\": 2, \\\"id\\\": 11106, \\\"job\\\": \\\"Costume Design\\\", \\\"name\\\": \\\"Lisa Tomczeszyn\\\"}, {\\\"credit_id\\\": \\\"560046499251414e4d000197\\\", \\\"department\\\": \\\"Crew\\\", \\\"gender\\\": 0, \\\"id\\\": 113194, \\\"job\\\": \\\"Stunts\\\", \\\"name\\\": \\\"James Bamford\\\"}, {\\\"credit_id\\\": \\\"538d82990e0a266712005de9\\\", \\\"department\\\": \\\"Editing\\\", \\\"gender\\\": 1, \\\"id\\\": 11100, \\\"job\\\": \\\"Editor\\\", \\\"name\\\": \\\"Julia Wong\\\"}, {\\\"credit_id\\\": \\\"57671042c3a36806b3000104\\\", \\\"department\\\": \\\"Production\\\", \\\"gender\\\": 2, \\\"id\\\": 11095, \\\"job\\\": \\\"Co-Producer\\\", \\\"name\\\": \\\"James M. Freitag\\\"}, {\\\"credit_id\\\": \\\"57670fdbc3a3680722000106\\\", \\\"department\\\": \\\"Production\\\", \\\"gender\\\": 2, \\\"id\\\": 11014, \\\"job\\\": \\\"Co-Producer\\\", \\\"name\\\": \\\"Ross Fanger\\\"}, {\\\"credit_id\\\": \\\"538d83750e0a26670b005de5\\\", \\\"department\\\": \\\"Art\\\", \\\"gender\\\": 0, \\\"id\\\": 223991, \\\"job\\\": \\\"Art Direction\\\", \\\"name\\\": \\\"Sandi Tanaka\\\"}, {\\\"credit_id\\\": \\\"576710f192514133c5001213\\\", \\\"department\\\": \\\"Production\\\", \\\"gender\\\": 0, \\\"id\\\": 1182092, \\\"job\\\": \\\"Executive Producer\\\", \\\"name\\\": \\\"John Palermo\\\"}, {\\\"credit_id\\\": \\\"55402d2fc3a3681da0000633\\\", \\\"department\\\": \\\"Visual Effects\\\", \\\"gender\\\": 0, \\\"id\\\": 1395269, \\\"job\\\": \\\"Visual Effects Supervisor\\\", \\\"name\\\": \\\"John Bruno\\\"}, {\\\"credit_id\\\": \\\"563a9ed79251416d520145a0\\\", \\\"department\\\": \\\"Crew\\\", \\\"gender\\\": 0, \\\"id\\\": 1401803, \\\"job\\\": \\\"Digital Effects Supervisor\\\", \\\"name\\\": \\\"Guy Williams\\\"}, {\\\"credit_id\\\": \\\"5767112fc3a3680722000132\\\", \\\"department\\\": \\\"Production\\\", \\\"gender\\\": 0, \\\"id\\\": 1432021, \\\"job\\\": \\\"Co-Producer\\\", \\\"name\\\": \\\"Kurt Williams\\\"}, {\\\"credit_id\\\": \\\"55423048c3a36829e5003bc8\\\", \\\"department\\\": \\\"Crew\\\", \\\"gender\\\": 0, \\\"id\\\": 1447557, \\\"job\\\": \\\"Compositors\\\", \\\"name\\\": \\\"Rachel Wyn Dunn\\\"}, {\\\"credit_id\\\": \\\"552986b4c3a368596e001a79\\\", \\\"department\\\": \\\"Visual Effects\\\", \\\"gender\\\": 0, \\\"id\\\": 1452932, \\\"job\\\": \\\"Animation\\\", \\\"name\\\": \\\"Joel Fletcher\\\"}, {\\\"credit_id\\\": \\\"57670f92925141655a000109\\\", \\\"department\\\": \\\"Production\\\", \\\"gender\\\": 0, \\\"id\\\": 1477146, \\\"job\\\": \\\"Co-Producer\\\", \\\"name\\\": \\\"Lee Cleary\\\"}, {\\\"credit_id\\\": \\\"5767107c925141655a00012c\\\", \\\"department\\\": \\\"Production\\\", \\\"gender\\\": 0, \\\"id\\\": 1477147, \\\"job\\\": \\\"Associate Producer\\\", \\\"name\\\": \\\"David Gorder\\\"}, {\\\"credit_id\\\": \\\"5767105bc3a36850c4000573\\\", \\\"department\\\": \\\"Production\\\", \\\"gender\\\": 2, \\\"id\\\": 1477203, \\\"job\\\": \\\"Associate Producer\\\", \\\"name\\\": \\\"Luca Marco Paracels\\\"}]\",\n          \"[{\\\"credit_id\\\": \\\"58dd0e90c3a368223e00b59c\\\", \\\"department\\\": \\\"Production\\\", \\\"gender\\\": 1, \\\"id\\\": 546, \\\"job\\\": \\\"Casting\\\", \\\"name\\\": \\\"Jeanne McCarthy\\\"}, {\\\"credit_id\\\": \\\"52fe43bb9251416c7501bf83\\\", \\\"department\\\": \\\"Production\\\", \\\"gender\\\": 2, \\\"id\\\": 2043, \\\"job\\\": \\\"Producer\\\", \\\"name\\\": \\\"John Davis\\\"}, {\\\"credit_id\\\": \\\"5539fe35c3a3685cf8002f1e\\\", \\\"department\\\": \\\"Sound\\\", \\\"gender\\\": 2, \\\"id\\\": 3393, \\\"job\\\": \\\"Original Music Composer\\\", \\\"name\\\": \\\"David Newman\\\"}, {\\\"credit_id\\\": \\\"58dd0d3fc3a368228a00aa50\\\", \\\"department\\\": \\\"Production\\\", \\\"gender\\\": 0, \\\"id\\\": 6187, \\\"job\\\": \\\"Associate Producer\\\", \\\"name\\\": \\\"Aldric La'Auli Porter\\\"}, {\\\"credit_id\\\": \\\"5990427f925141672302ba00\\\", \\\"department\\\": \\\"Directing\\\", \\\"gender\\\": 0, \\\"id\\\": 6187, \\\"job\\\": \\\"First Assistant Director\\\", \\\"name\\\": \\\"Aldric La'Auli Porter\\\"}, {\\\"credit_id\\\": \\\"58dd0efdc3a368228300b438\\\", \\\"department\\\": \\\"Art\\\", \\\"gender\\\": 2, \\\"id\\\": 6877, \\\"job\\\": \\\"Production Design\\\", \\\"name\\\": \\\"William Sandell\\\"}, {\\\"credit_id\\\": \\\"58dd0f56925141411000c340\\\", \\\"department\\\": \\\"Art\\\", \\\"gender\\\": 2, \\\"id\\\": 6880, \\\"job\\\": \\\"Set Decoration\\\", \\\"name\\\": \\\"Robert Gould\\\"}, {\\\"credit_id\\\": \\\"58dd0f1fc3a36822a600c1dd\\\", \\\"department\\\": \\\"Art\\\", \\\"gender\\\": 2, \\\"id\\\": 8705, \\\"job\\\": \\\"Art Direction\\\", \\\"name\\\": \\\"Brad Ricker\\\"}, {\\\"credit_id\\\": \\\"5990490b925141673e02d2f5\\\", \\\"department\\\": \\\"Sound\\\", \\\"gender\\\": 0, \\\"id\\\": 8763, \\\"job\\\": \\\"Foley Editor\\\", \\\"name\\\": \\\"Dan Yale\\\"}, {\\\"credit_id\\\": \\\"58dd0d3192514140f600b915\\\", \\\"department\\\": \\\"Production\\\", \\\"gender\\\": 2, \\\"id\\\": 8880, \\\"job\\\": \\\"Executive Producer\\\", \\\"name\\\": \\\"Neil A. Machlis\\\"}, {\\\"credit_id\\\": \\\"58dd0e0bc3a368229300bdf6\\\", \\\"department\\\": \\\"Production\\\", \\\"gender\\\": 1, \\\"id\\\": 14377, \\\"job\\\": \\\"Casting\\\", \\\"name\\\": \\\"Juel Bestrop\\\"}, {\\\"credit_id\\\": \\\"599045b6925141672302bdac\\\", \\\"department\\\": \\\"Art\\\", \\\"gender\\\": 0, \\\"id\\\": 12639, \\\"job\\\": \\\"Set Designer\\\", \\\"name\\\": \\\"Hugo Santiago\\\"}, {\\\"credit_id\\\": \\\"58dd0f69c3a368228300b48f\\\", \\\"department\\\": \\\"Costume & Make-Up\\\", \\\"gender\\\": 1, \\\"id\\\": 15524, \\\"job\\\": \\\"Costume Design\\\", \\\"name\\\": \\\"Ruth E. Carter\\\"}, {\\\"credit_id\\\": \\\"52fe43bb9251416c7501bf9b\\\", \\\"department\\\": \\\"Editing\\\", \\\"gender\\\": 2, \\\"id\\\": 18276, \\\"job\\\": \\\"Editor\\\", \\\"name\\\": \\\"Craig Herring\\\"}, {\\\"credit_id\\\": \\\"58dd0f2f92514140fa00c653\\\", \\\"department\\\": \\\"Art\\\", \\\"gender\\\": 2, \\\"id\\\": 13434, \\\"job\\\": \\\"Supervising Art Director\\\", \\\"name\\\": \\\"Bruce Crone\\\"}, {\\\"credit_id\\\": \\\"59904bcdc3a368744202b9fb\\\", \\\"department\\\": \\\"Visual Effects\\\", \\\"gender\\\": 0, \\\"id\\\": 27100, \\\"job\\\": \\\"Visual Effects Supervisor\\\", \\\"name\\\": \\\"Douglas Smith\\\"}, {\\\"credit_id\\\": \\\"52fe43bb9251416c7501bf7d\\\", \\\"department\\\": \\\"Writing\\\", \\\"gender\\\": 2, \\\"id\\\": 31026, \\\"job\\\": \\\"Screenplay\\\", \\\"name\\\": \\\"Larry Levin\\\"}, {\\\"credit_id\\\": \\\"58dd0c8592514140fa00c441\\\", \\\"department\\\": \\\"Production\\\", \\\"gender\\\": 1, \\\"id\\\": 49907, \\\"job\\\": \\\"Co-Producer\\\", \\\"name\\\": \\\"Michele Imperato\\\"}, {\\\"credit_id\\\": \\\"58dd0fb0c3a368227300bfad\\\", \\\"department\\\": \\\"Production\\\", \\\"gender\\\": 1, \\\"id\\\": 49907, \\\"job\\\": \\\"Unit Production Manager\\\", \\\"name\\\": \\\"Michele Imperato\\\"}, {\\\"credit_id\\\": \\\"52fe43bb9251416c7501bfb1\\\", \\\"department\\\": \\\"Directing\\\", \\\"gender\\\": 2, \\\"id\\\": 52112, \\\"job\\\": \\\"Director\\\", \\\"name\\\": \\\"Steve Carr\\\"}, {\\\"credit_id\\\": \\\"5990471cc3a36874a302bbdc\\\", \\\"department\\\": \\\"Sound\\\", \\\"gender\\\": 2, \\\"id\\\": 52193, \\\"job\\\": \\\"Dialogue Editor\\\", \\\"name\\\": \\\"R.J. Kizer\\\"}, {\\\"credit_id\\\": \\\"52fe43bb9251416c7501bf95\\\", \\\"department\\\": \\\"Camera\\\", \\\"gender\\\": 2, \\\"id\\\": 56324, \\\"job\\\": \\\"Director of Photography\\\", \\\"name\\\": \\\"Daryn Okada\\\"}, {\\\"credit_id\\\": \\\"52fe43bb9251416c7501bf89\\\", \\\"department\\\": \\\"Production\\\", \\\"gender\\\": 2, \\\"id\\\": 56053, \\\"job\\\": \\\"Producer\\\", \\\"name\\\": \\\"Joseph Singer\\\"}, {\\\"credit_id\\\": \\\"59904a06925141676602b701\\\", \\\"department\\\": \\\"Crew\\\", \\\"gender\\\": 2, \\\"id\\\": 57769, \\\"job\\\": \\\"Visual Effects Editor\\\", \\\"name\\\": \\\"Peter S. Elliot\\\"}, {\\\"credit_id\\\": \\\"58dd0d4c92514140fa00c4da\\\", \\\"department\\\": \\\"Production\\\", \\\"gender\\\": 1, \\\"id\\\": 66921, \\\"job\\\": \\\"Co-Producer\\\", \\\"name\\\": \\\"Heidi Santelli\\\"}, {\\\"credit_id\\\": \\\"59905155c3a36874b402a906\\\", \\\"department\\\": \\\"Sound\\\", \\\"gender\\\": 0, \\\"id\\\": 91324, \\\"job\\\": \\\"Music Editor\\\", \\\"name\\\": \\\"Tom Villano\\\"}, {\\\"credit_id\\\": \\\"5990424a925141676602adf3\\\", \\\"department\\\": \\\"Costume & Make-Up\\\", \\\"gender\\\": 0, \\\"id\\\": 168214, \\\"job\\\": \\\"Makeup Artist\\\", \\\"name\\\": \\\"Judy Murdock\\\"}, {\\\"credit_id\\\": \\\"59904eae925141673e02da30\\\", \\\"department\\\": \\\"Camera\\\", \\\"gender\\\": 2, \\\"id\\\": 555085, \\\"job\\\": \\\"Still Photographer\\\", \\\"name\\\": \\\"Bruce McBroom\\\"}, {\\\"credit_id\\\": \\\"599041d0c3a36874a302b5e9\\\", \\\"department\\\": \\\"Costume & Make-Up\\\", \\\"gender\\\": 0, \\\"id\\\": 1015965, \\\"job\\\": \\\"Makeup Department Head\\\", \\\"name\\\": \\\"Kris Evans\\\"}, {\\\"credit_id\\\": \\\"58dd11a2c3a368227300c14b\\\", \\\"department\\\": \\\"Production\\\", \\\"gender\\\": 0, \\\"id\\\": 1113659, \\\"job\\\": \\\"Location Manager\\\", \\\"name\\\": \\\"Iddo Lampton Enochs Jr.\\\"}, {\\\"credit_id\\\": \\\"59904b71925141675f02b7e7\\\", \\\"department\\\": \\\"Crew\\\", \\\"gender\\\": 0, \\\"id\\\": 1178615, \\\"job\\\": \\\"CG Supervisor\\\", \\\"name\\\": \\\"Liz Radley\\\"}, {\\\"credit_id\\\": \\\"59904fe5c3a368744202bf0c\\\", \\\"department\\\": \\\"Costume & Make-Up\\\", \\\"gender\\\": 0, \\\"id\\\": 1319193, \\\"job\\\": \\\"Costume Supervisor\\\", \\\"name\\\": \\\"Donna Marcione Pollack\\\"}, {\\\"credit_id\\\": \\\"599044c4925141672302bc97\\\", \\\"department\\\": \\\"Art\\\", \\\"gender\\\": 0, \\\"id\\\": 1364403, \\\"job\\\": \\\"Greensman\\\", \\\"name\\\": \\\"Frank McEldowney\\\"}, {\\\"credit_id\\\": \\\"59904694925141673e02cfd2\\\", \\\"department\\\": \\\"Sound\\\", \\\"gender\\\": 0, \\\"id\\\": 1367505, \\\"job\\\": \\\"Dialogue Editor\\\", \\\"name\\\": \\\"Ted Caplan\\\"}, {\\\"credit_id\\\": \\\"5990439d925141675902ac1b\\\", \\\"department\\\": \\\"Art\\\", \\\"gender\\\": 0, \\\"id\\\": 1377216, \\\"job\\\": \\\"Art Department Coordinator\\\", \\\"name\\\": \\\"Gerald Lehtola\\\"}, {\\\"credit_id\\\": \\\"599045fb925141675f02b16c\\\", \\\"department\\\": \\\"Art\\\", \\\"gender\\\": 0, \\\"id\\\": 1378165, \\\"job\\\": \\\"Property Master\\\", \\\"name\\\": \\\"Mark Wade\\\"}, {\\\"credit_id\\\": \\\"58dd0fd0c3a368228a00abfb\\\", \\\"department\\\": \\\"Art\\\", \\\"gender\\\": 1, \\\"id\\\": 1378749, \\\"job\\\": \\\"Set Designer\\\", \\\"name\\\": \\\"Patricia Klawonn\\\"}, {\\\"credit_id\\\": \\\"58dd1023c3a368227300c025\\\", \\\"department\\\": \\\"Art\\\", \\\"gender\\\": 0, \\\"id\\\": 1389585, \\\"job\\\": \\\"Set Designer\\\", \\\"name\\\": \\\"Bill Taliaferro\\\"}, {\\\"credit_id\\\": \\\"59904785c3a3687493029126\\\", \\\"department\\\": \\\"Sound\\\", \\\"gender\\\": 0, \\\"id\\\": 1390527, \\\"job\\\": \\\"Sound Effects Editor\\\", \\\"name\\\": \\\"Dave Kulczycki\\\"}, {\\\"credit_id\\\": \\\"59905010925141675f02bd38\\\", \\\"department\\\": \\\"Costume & Make-Up\\\", \\\"gender\\\": 0, \\\"id\\\": 1399322, \\\"job\\\": \\\"Set Costumer\\\", \\\"name\\\": \\\"Elizabeth Frank\\\"}, {\\\"credit_id\\\": \\\"59904d81925141670b02cf99\\\", \\\"department\\\": \\\"Camera\\\", \\\"gender\\\": 2, \\\"id\\\": 1400374, \\\"job\\\": \\\"Camera Operator\\\", \\\"name\\\": \\\"Casey Hotchkiss\\\"}, {\\\"credit_id\\\": \\\"599046d2c3a3687493029074\\\", \\\"department\\\": \\\"Sound\\\", \\\"gender\\\": 0, \\\"id\\\": 1404841, \\\"job\\\": \\\"ADR Editor\\\", \\\"name\\\": \\\"Zack Davis\\\"}, {\\\"credit_id\\\": \\\"59904214c3a368746102979f\\\", \\\"department\\\": \\\"Costume & Make-Up\\\", \\\"gender\\\": 0, \\\"id\\\": 1408278, \\\"job\\\": \\\"Hair Department Head\\\", \\\"name\\\": \\\"Erma Kent\\\"}, {\\\"credit_id\\\": \\\"599048b2925141670b02c97f\\\", \\\"department\\\": \\\"Sound\\\", \\\"gender\\\": 0, \\\"id\\\": 1416153, \\\"job\\\": \\\"Supervising Sound Editor\\\", \\\"name\\\": \\\"Donald Sylvester\\\"}, {\\\"credit_id\\\": \\\"59904ad6c3a36874b402a1cc\\\", \\\"department\\\": \\\"Visual Effects\\\", \\\"gender\\\": 0, \\\"id\\\": 1416167, \\\"job\\\": \\\"Visual Effects Producer\\\", \\\"name\\\": \\\"John Kilkenny\\\"}, {\\\"credit_id\\\": \\\"56ae7d849251416357002915\\\", \\\"department\\\": \\\"Costume & Make-Up\\\", \\\"gender\\\": 1, \\\"id\\\": 1424894, \\\"job\\\": \\\"Hairstylist\\\", \\\"name\\\": \\\"Camille Friend\\\"}, {\\\"credit_id\\\": \\\"599047ab925141674c02b48e\\\", \\\"department\\\": \\\"Sound\\\", \\\"gender\\\": 0, \\\"id\\\": 1425343, \\\"job\\\": \\\"ADR Editor\\\", \\\"name\\\": \\\"Vanessa Lapato\\\"}, {\\\"credit_id\\\": \\\"59904951925141673902ae4e\\\", \\\"department\\\": \\\"Crew\\\", \\\"gender\\\": 0, \\\"id\\\": 1442509, \\\"job\\\": \\\"Special Effects Coordinator\\\", \\\"name\\\": \\\"Alan E. Lorimer\\\"}, {\\\"credit_id\\\": \\\"59904427925141675902acc6\\\", \\\"department\\\": \\\"Art\\\", \\\"gender\\\": 0, \\\"id\\\": 1451398, \\\"job\\\": \\\"Greensman\\\", \\\"name\\\": \\\"Bryan McBrien\\\"}, {\\\"credit_id\\\": \\\"59904629c3a368744202b2d6\\\", \\\"department\\\": \\\"Art\\\", \\\"gender\\\": 0, \\\"id\\\": 1453276, \\\"job\\\": \\\"Construction Coordinator\\\", \\\"name\\\": \\\"Butch West\\\"}, {\\\"credit_id\\\": \\\"599034bcc3a3687493027d17\\\", \\\"department\\\": \\\"Crew\\\", \\\"gender\\\": 2, \\\"id\\\": 1454647, \\\"job\\\": \\\"Creator\\\", \\\"name\\\": \\\"Hugh Lofting\\\"}, {\\\"credit_id\\\": \\\"58dd11f1c3a36822ae00bc75\\\", \\\"department\\\": \\\"Directing\\\", \\\"gender\\\": 1, \\\"id\\\": 1457729, \\\"job\\\": \\\"Script Supervisor\\\", \\\"name\\\": \\\"Nancy Karlin\\\"}, {\\\"credit_id\\\": \\\"59904a8d925141675f02b6d8\\\", \\\"department\\\": \\\"Visual Effects\\\", \\\"gender\\\": 0, \\\"id\\\": 1496418, \\\"job\\\": \\\"Visual Effects Coordinator\\\", \\\"name\\\": \\\"Mitchell Ferm\\\"}, {\\\"credit_id\\\": \\\"599050e6925141674c02beef\\\", \\\"department\\\": \\\"Sound\\\", \\\"gender\\\": 2, \\\"id\\\": 1550058, \\\"job\\\": \\\"Music Editor\\\", \\\"name\\\": \\\"Jim Harrison\\\"}, {\\\"credit_id\\\": \\\"58dd11b0c3a368223e00b7db\\\", \\\"department\\\": \\\"Art\\\", \\\"gender\\\": 0, \\\"id\\\": 1585159, \\\"job\\\": \\\"Location Scout\\\", \\\"name\\\": \\\"Jasan Sherman\\\"}, {\\\"credit_id\\\": \\\"5990453a925141673902a8ec\\\", \\\"department\\\": \\\"Art\\\", \\\"gender\\\": 0, \\\"id\\\": 1586888, \\\"job\\\": \\\"Sculptor\\\", \\\"name\\\": \\\"Thomas Meikle\\\"}, {\\\"credit_id\\\": \\\"5990506dc3a368747302c6e3\\\", \\\"department\\\": \\\"Sound\\\", \\\"gender\\\": 0, \\\"id\\\": 1587383, \\\"job\\\": \\\"Music Supervisor\\\", \\\"name\\\": \\\"Spring Aspers\\\"}, {\\\"credit_id\\\": \\\"59904fbb925141672302c9ed\\\", \\\"department\\\": \\\"Costume & Make-Up\\\", \\\"gender\\\": 0, \\\"id\\\": 1610228, \\\"job\\\": \\\"Key Costumer\\\", \\\"name\\\": \\\"Craig Anthony\\\"}, {\\\"credit_id\\\": \\\"599047e3925141674c02b4cf\\\", \\\"department\\\": \\\"Sound\\\", \\\"gender\\\": 2, \\\"id\\\": 1737829, \\\"job\\\": \\\"Boom Operator\\\", \\\"name\\\": \\\"Harrison D. Marsh\\\"}, {\\\"credit_id\\\": \\\"58dd10b2c3a368228300b588\\\", \\\"department\\\": \\\"Production\\\", \\\"gender\\\": 1, \\\"id\\\": 1763970, \\\"job\\\": \\\"Casting Assistant\\\", \\\"name\\\": \\\"Nadia Lubbe Simon\\\"}, {\\\"credit_id\\\": \\\"58dd1052925141413c00beac\\\", \\\"department\\\": \\\"Production\\\", \\\"gender\\\": 1, \\\"id\\\": 1786614, \\\"job\\\": \\\"Casting Associate\\\", \\\"name\\\": \\\"Diana Jaher\\\"}, {\\\"credit_id\\\": \\\"58dd11d5c3a368229d00b6a0\\\", \\\"department\\\": \\\"Production\\\", \\\"gender\\\": 0, \\\"id\\\": 1786616, \\\"job\\\": \\\"Location Manager\\\", \\\"name\\\": \\\"Craig W. van Gundy\\\"}, {\\\"credit_id\\\": \\\"58dd1254c3a368227300c1e6\\\", \\\"department\\\": \\\"Production\\\", \\\"gender\\\": 1, \\\"id\\\": 1786618, \\\"job\\\": \\\"Production Coordinator\\\", \\\"name\\\": \\\"Kris Fullan Martinez\\\"}, {\\\"credit_id\\\": \\\"599042f4c3a368744202aefa\\\", \\\"department\\\": \\\"Art\\\", \\\"gender\\\": 0, \\\"id\\\": 1868861, \\\"job\\\": \\\"Painter\\\", \\\"name\\\": \\\"Joe A. Hawthorne\\\"}, {\\\"credit_id\\\": \\\"5990448e925141675f02afa7\\\", \\\"department\\\": \\\"Crew\\\", \\\"gender\\\": 0, \\\"id\\\": 1868865, \\\"job\\\": \\\"Propmaker\\\", \\\"name\\\": \\\"Robert McDonald\\\"}, {\\\"credit_id\\\": \\\"59904571925141670b02c572\\\", \\\"department\\\": \\\"Crew\\\", \\\"gender\\\": 0, \\\"id\\\": 1868867, \\\"job\\\": \\\"Propmaker\\\", \\\"name\\\": \\\"Robert Prchal\\\"}, {\\\"credit_id\\\": \\\"599045da925141673902a9d7\\\", \\\"department\\\": \\\"Crew\\\", \\\"gender\\\": 0, \\\"id\\\": 1868868, \\\"job\\\": \\\"Propmaker\\\", \\\"name\\\": \\\"Hal Schlax\\\"}, {\\\"credit_id\\\": \\\"59904c34925141675f02b8bc\\\", \\\"department\\\": \\\"Crew\\\", \\\"gender\\\": 2, \\\"id\\\": 1868877, \\\"job\\\": \\\"Stunt Coordinator\\\", \\\"name\\\": \\\"John Molo\\\"}, {\\\"credit_id\\\": \\\"59904cac925141673e02d7a8\\\", \\\"department\\\": \\\"Camera\\\", \\\"gender\\\": 0, \\\"id\\\": 1868878, \\\"job\\\": \\\"Camera Operator\\\", \\\"name\\\": \\\"Todd Dos Reis\\\"}, {\\\"credit_id\\\": \\\"59904d04925141676602ba9a\\\", \\\"department\\\": \\\"Camera\\\", \\\"gender\\\": 0, \\\"id\\\": 1868879, \\\"job\\\": \\\"Dolly Grip\\\", \\\"name\\\": \\\"Jason D. Hodges\\\"}, {\\\"credit_id\\\": \\\"59904d3bc3a36874b402a4b0\\\", \\\"department\\\": \\\"Camera\\\", \\\"gender\\\": 0, \\\"id\\\": 1868880, \\\"job\\\": \\\"Key Grip\\\", \\\"name\\\": \\\"Mike Hodges\\\"}, {\\\"credit_id\\\": \\\"59904df0925141672302c7da\\\", \\\"department\\\": \\\"Lighting\\\", \\\"gender\\\": 0, \\\"id\\\": 1868881, \\\"job\\\": \\\"Gaffer\\\", \\\"name\\\": \\\"Kal Manning\\\"}, {\\\"credit_id\\\": \\\"59904ede925141675f02bbe6\\\", \\\"department\\\": \\\"Camera\\\", \\\"gender\\\": 0, \\\"id\\\": 1868889, \\\"job\\\": \\\"Dolly Grip\\\", \\\"name\\\": \\\"Larry McCarron\\\"}, {\\\"credit_id\\\": \\\"59905109925141673e02dcde\\\", \\\"department\\\": \\\"Sound\\\", \\\"gender\\\": 0, \\\"id\\\": 1868892, \\\"job\\\": \\\"Music Editor\\\", \\\"name\\\": \\\"Kim Strand\\\"}]\",\n          \"[{\\\"credit_id\\\": \\\"52fe44479251416c7502f0c3\\\", \\\"department\\\": \\\"Sound\\\", \\\"gender\\\": 2, \\\"id\\\": 20953, \\\"job\\\": \\\"Original Music Composer\\\", \\\"name\\\": \\\"Harry Manfredini\\\"}, {\\\"credit_id\\\": \\\"534a8875c3a3682df60016a4\\\", \\\"department\\\": \\\"Production\\\", \\\"gender\\\": 0, \\\"id\\\": 23545, \\\"job\\\": \\\"Casting\\\", \\\"name\\\": \\\"Robin D. Cook\\\"}, {\\\"credit_id\\\": \\\"52fe44479251416c7502f0ed\\\", \\\"department\\\": \\\"Production\\\", \\\"gender\\\": 2, \\\"id\\\": 35475, \\\"job\\\": \\\"Executive Producer\\\", \\\"name\\\": \\\"Sean S. Cunningham\\\"}, {\\\"credit_id\\\": \\\"52fe44479251416c7502f0cf\\\", \\\"department\\\": \\\"Camera\\\", \\\"gender\\\": 2, \\\"id\\\": 55642, \\\"job\\\": \\\"Director of Photography\\\", \\\"name\\\": \\\"Derick V. Underschultz\\\"}, {\\\"credit_id\\\": \\\"52fe44479251416c7502f0b7\\\", \\\"department\\\": \\\"Writing\\\", \\\"gender\\\": 2, \\\"id\\\": 61117, \\\"job\\\": \\\"Screenplay\\\", \\\"name\\\": \\\"Todd Farmer\\\"}, {\\\"credit_id\\\": \\\"52fe44479251416c7502f0c9\\\", \\\"department\\\": \\\"Editing\\\", \\\"gender\\\": 2, \\\"id\\\": 64748, \\\"job\\\": \\\"Editor\\\", \\\"name\\\": \\\"David Handman\\\"}, {\\\"credit_id\\\": \\\"52fe44479251416c7502f0b1\\\", \\\"department\\\": \\\"Directing\\\", \\\"gender\\\": 2, \\\"id\\\": 69579, \\\"job\\\": \\\"Director\\\", \\\"name\\\": \\\"James Isaac\\\"}, {\\\"credit_id\\\": \\\"52fe44479251416c7502f0bd\\\", \\\"department\\\": \\\"Production\\\", \\\"gender\\\": 2, \\\"id\\\": 69585, \\\"job\\\": \\\"Producer\\\", \\\"name\\\": \\\"Noel Cunningham\\\"}, {\\\"credit_id\\\": \\\"534a888cc3a3682df60016a8\\\", \\\"department\\\": \\\"Costume & Make-Up\\\", \\\"gender\\\": 0, \\\"id\\\": 958703, \\\"job\\\": \\\"Costume Design\\\", \\\"name\\\": \\\"Maxyne Baker\\\"}]\"\n        ],\n        \"semantic_type\": \"\",\n        \"description\": \"\"\n      }\n    }\n  ]\n}"
            }
          },
          "metadata": {},
          "execution_count": 9
        }
      ]
    },
    {
      "cell_type": "markdown",
      "source": [
        "- Semua kolom memiliki jumlah data lengkap (non-null), artinya tidak ada missing value yang perlu ditangani saat ini.\n",
        "- Tipe data didominasi oleh object,bertipe dan integer.\n",
        "- Memori yang digunakan sekitar 150 KB."
      ],
      "metadata": {
        "id": "hotJa170_nsu"
      }
    },
    {
      "cell_type": "code",
      "source": [
        "print('banyak judul film:',len(credits_df.title.unique()))\n",
        "print('jumlah cast:',len(credits_df.cast.unique()))\n",
        "print('jumlah crew:',len(credits_df.crew.unique()))"
      ],
      "metadata": {
        "colab": {
          "base_uri": "https://localhost:8080/"
        },
        "id": "chMlV_idmQo2",
        "outputId": "9ba36ac0-5ebb-4136-93ae-293f2745db33"
      },
      "execution_count": null,
      "outputs": [
        {
          "output_type": "stream",
          "name": "stdout",
          "text": [
            "banyak judul film: 4800\n",
            "jumlah cast: 4761\n",
            "jumlah crew: 4776\n"
          ]
        }
      ]
    },
    {
      "cell_type": "markdown",
      "source": [
        "- mengetahui jumlah judul film\n",
        "- terdapat 4803 data cast dan saat dijumlah ada 4761 cast.artinya ada beberapa cast yang sama main di film yang berbeda\n",
        "- terdapat 4083 data crew dan saat di jumlah ada 4776 crew.artinya ada beberapa crew yang sama bekerja di film yang berbeda"
      ],
      "metadata": {
        "id": "GhoGHGtjAgcU"
      }
    },
    {
      "cell_type": "markdown",
      "source": [
        "# Data preprocessing"
      ],
      "metadata": {
        "id": "nqOZWPenq4qx"
      }
    },
    {
      "cell_type": "code",
      "source": [
        "#tahap 2:Menggabungkan kedua dataframe berdasarkan 'id' film (atau 'movie_id' di credits_df dan 'id' di movies_df)\n",
        "movies_df = movies_df.rename(columns={'id': 'movie_id'}) # Menyamakan nama kolom untuk merge\n",
        "df = movies_df.merge(credits_df, on='movie_id')\n",
        "df.info()"
      ],
      "metadata": {
        "colab": {
          "base_uri": "https://localhost:8080/"
        },
        "id": "40DZ6gSejCxA",
        "outputId": "02f1a257-f174-4c48-c15b-722b27e34242"
      },
      "execution_count": null,
      "outputs": [
        {
          "output_type": "stream",
          "name": "stdout",
          "text": [
            "<class 'pandas.core.frame.DataFrame'>\n",
            "RangeIndex: 4803 entries, 0 to 4802\n",
            "Data columns (total 23 columns):\n",
            " #   Column                Non-Null Count  Dtype  \n",
            "---  ------                --------------  -----  \n",
            " 0   budget                4803 non-null   int64  \n",
            " 1   genres                4803 non-null   object \n",
            " 2   homepage              1712 non-null   object \n",
            " 3   movie_id              4803 non-null   int64  \n",
            " 4   keywords              4803 non-null   object \n",
            " 5   original_language     4803 non-null   object \n",
            " 6   original_title        4803 non-null   object \n",
            " 7   overview              4800 non-null   object \n",
            " 8   popularity            4803 non-null   float64\n",
            " 9   production_companies  4803 non-null   object \n",
            " 10  production_countries  4803 non-null   object \n",
            " 11  release_date          4802 non-null   object \n",
            " 12  revenue               4803 non-null   int64  \n",
            " 13  runtime               4801 non-null   float64\n",
            " 14  spoken_languages      4803 non-null   object \n",
            " 15  status                4803 non-null   object \n",
            " 16  tagline               3959 non-null   object \n",
            " 17  title_x               4803 non-null   object \n",
            " 18  vote_average          4803 non-null   float64\n",
            " 19  vote_count            4803 non-null   int64  \n",
            " 20  title_y               4803 non-null   object \n",
            " 21  cast                  4803 non-null   object \n",
            " 22  crew                  4803 non-null   object \n",
            "dtypes: float64(3), int64(4), object(16)\n",
            "memory usage: 863.2+ KB\n"
          ]
        }
      ]
    },
    {
      "cell_type": "markdown",
      "source": [
        "- kode diatas mengubah kolom id menjadi movie_id di variabel movie_df\n",
        "- menggabungkan kedua data diatas menjadi data dengan menggunakan fungsi merge  "
      ],
      "metadata": {
        "id": "urg0KMRJBdgC"
      }
    },
    {
      "cell_type": "code",
      "execution_count": null,
      "metadata": {
        "id": "bmwqSrstXCqE",
        "colab": {
          "base_uri": "https://localhost:8080/"
        },
        "outputId": "5f952066-7a73-4f83-aaee-664dd7cbd7ce"
      },
      "outputs": [
        {
          "output_type": "stream",
          "name": "stdout",
          "text": [
            "Dataset Gabungan (beberapa kolom pertama):\n",
            "   movie_id                                     title  \\\n",
            "0     19995                                    Avatar   \n",
            "1       285  Pirates of the Caribbean: At World's End   \n",
            "\n",
            "                                            overview  \\\n",
            "0  In the 22nd century, a paraplegic Marine is di...   \n",
            "1  Captain Barbossa, long believed to be dead, ha...   \n",
            "\n",
            "                                              genres  \\\n",
            "0  [{\"id\": 28, \"name\": \"Action\"}, {\"id\": 12, \"nam...   \n",
            "1  [{\"id\": 12, \"name\": \"Adventure\"}, {\"id\": 14, \"...   \n",
            "\n",
            "                                            keywords  \\\n",
            "0  [{\"id\": 1463, \"name\": \"culture clash\"}, {\"id\":...   \n",
            "1  [{\"id\": 270, \"name\": \"ocean\"}, {\"id\": 726, \"na...   \n",
            "\n",
            "                                                cast  \\\n",
            "0  [{\"cast_id\": 242, \"character\": \"Jake Sully\", \"...   \n",
            "1  [{\"cast_id\": 4, \"character\": \"Captain Jack Spa...   \n",
            "\n",
            "                                                crew  \n",
            "0  [{\"credit_id\": \"52fe48009251416c750aca23\", \"de...  \n",
            "1  [{\"credit_id\": \"52fe4232c3a36847f800b579\", \"de...  \n",
            "\n",
            "Jumlah film awal: 4803\n",
            "------------------------------\n"
          ]
        }
      ],
      "source": [
        "# Memilih fitur yang relevan untuk content-based filtering\n",
        "# Kita akan menggunakan 'overview', 'genres', 'keywords', 'cast', dan 'crew' (sutradara)\n",
        "df = df[['movie_id', 'title_x', 'overview', 'genres', 'keywords', 'cast', 'crew']]\n",
        "df.rename(columns={'title_x': 'title'}, inplace=True)\n",
        "\n",
        "print(\"Dataset Gabungan (beberapa kolom pertama):\")\n",
        "print(df.head(2))\n",
        "print(f\"\\nJumlah film awal: {len(df)}\")\n",
        "print(\"-\" * 30)"
      ]
    },
    {
      "cell_type": "markdown",
      "source": [
        "- bertujuan untuk mempersiapkan data untuk content-based filtering\n",
        "-  Fitur-fitur yang dipilih untuk content-based filtering adalah: `overview`,` genres`,`keywords`,`cast`,dan `crew`\n",
        "- Kolom title_x diubah namanya menjadi title"
      ],
      "metadata": {
        "id": "r6hznnjZHMGA"
      }
    },
    {
      "cell_type": "markdown",
      "source": [
        "# Data Preparation"
      ],
      "metadata": {
        "id": "vAT03WbZsMeY"
      }
    },
    {
      "cell_type": "code",
      "execution_count": null,
      "metadata": {
        "id": "chg_0wlHkgNF",
        "colab": {
          "base_uri": "https://localhost:8080/",
          "height": 321
        },
        "outputId": "4c949681-b804-45e6-8e53-6e48a42c826e"
      },
      "outputs": [
        {
          "output_type": "stream",
          "name": "stdout",
          "text": [
            "Tahap 3: Pra-pemrosesan Data:\n"
          ]
        },
        {
          "output_type": "execute_result",
          "data": {
            "text/plain": [
              "movie_id    0\n",
              "title       0\n",
              "overview    3\n",
              "genres      0\n",
              "keywords    0\n",
              "cast        0\n",
              "crew        0\n",
              "dtype: int64"
            ],
            "text/html": [
              "<div>\n",
              "<style scoped>\n",
              "    .dataframe tbody tr th:only-of-type {\n",
              "        vertical-align: middle;\n",
              "    }\n",
              "\n",
              "    .dataframe tbody tr th {\n",
              "        vertical-align: top;\n",
              "    }\n",
              "\n",
              "    .dataframe thead th {\n",
              "        text-align: right;\n",
              "    }\n",
              "</style>\n",
              "<table border=\"1\" class=\"dataframe\">\n",
              "  <thead>\n",
              "    <tr style=\"text-align: right;\">\n",
              "      <th></th>\n",
              "      <th>0</th>\n",
              "    </tr>\n",
              "  </thead>\n",
              "  <tbody>\n",
              "    <tr>\n",
              "      <th>movie_id</th>\n",
              "      <td>0</td>\n",
              "    </tr>\n",
              "    <tr>\n",
              "      <th>title</th>\n",
              "      <td>0</td>\n",
              "    </tr>\n",
              "    <tr>\n",
              "      <th>overview</th>\n",
              "      <td>3</td>\n",
              "    </tr>\n",
              "    <tr>\n",
              "      <th>genres</th>\n",
              "      <td>0</td>\n",
              "    </tr>\n",
              "    <tr>\n",
              "      <th>keywords</th>\n",
              "      <td>0</td>\n",
              "    </tr>\n",
              "    <tr>\n",
              "      <th>cast</th>\n",
              "      <td>0</td>\n",
              "    </tr>\n",
              "    <tr>\n",
              "      <th>crew</th>\n",
              "      <td>0</td>\n",
              "    </tr>\n",
              "  </tbody>\n",
              "</table>\n",
              "</div><br><label><b>dtype:</b> int64</label>"
            ]
          },
          "metadata": {},
          "execution_count": 13
        }
      ],
      "source": [
        "# --- Tahap 3: Pra-pemrosesan Data ---\n",
        "print(\"Tahap 3: Pra-pemrosesan Data:\")\n",
        "\n",
        "# Menangani nilai yang hilang (missing values)\n",
        "df.isnull().sum()"
      ]
    },
    {
      "cell_type": "markdown",
      "source": [
        "- melihat data yang hilang"
      ],
      "metadata": {
        "id": "jYAN6NDxH7Go"
      }
    },
    {
      "cell_type": "code",
      "source": [
        "df.dropna(inplace=True) # Menghapus baris dengan nilai NaN pada kolom overview\n",
        "print(f\"Jumlah film setelah menghapus NaN: {len(df)}\")"
      ],
      "metadata": {
        "colab": {
          "base_uri": "https://localhost:8080/"
        },
        "id": "nuL6pax7sklw",
        "outputId": "83a3ca42-2a45-4339-8c6e-cd7c3a61d0d8"
      },
      "execution_count": null,
      "outputs": [
        {
          "output_type": "stream",
          "name": "stdout",
          "text": [
            "Jumlah film setelah menghapus NaN: 4800\n"
          ]
        }
      ]
    },
    {
      "cell_type": "markdown",
      "source": [
        "- menangani data yang hilang dan melihat jumlah data yang ada sebanyak 4800"
      ],
      "metadata": {
        "id": "55uzXi0lIRtH"
      }
    },
    {
      "cell_type": "code",
      "source": [
        "# --- Tahap 4: Feature Engineering ---\n",
        "# Fungsi untuk mengurai string JSON menjadi list\n",
        "def parse_json_like_string(text_data):\n",
        "    try:\n",
        "        # ast.literal_eval aman untuk mengurai string yang terlihat seperti struktur data Python\n",
        "        items = ast.literal_eval(text_data)\n",
        "        # Ambil 'name' dari setiap dictionary dalam list\n",
        "        return [item['name'] for item in items]\n",
        "    except:\n",
        "        return []"
      ],
      "metadata": {
        "id": "2g3Wp7r2tB7R"
      },
      "execution_count": null,
      "outputs": []
    },
    {
      "cell_type": "markdown",
      "source": [],
      "metadata": {
        "id": "SLqbeaMaI5So"
      }
    },
    {
      "cell_type": "code",
      "source": [
        "# Mengaplikasikan fungsi parsing ke kolom 'genres' dan 'keywords'\n",
        "df['genres'] = df['genres'].apply(parse_json_like_string)\n",
        "df['keywords'] = df['keywords'].apply(parse_json_like_string)"
      ],
      "metadata": {
        "id": "_TxCDWd_tKDW"
      },
      "execution_count": null,
      "outputs": []
    },
    {
      "cell_type": "code",
      "source": [
        "# Fungsi untuk mendapatkan 3 aktor utama dari kolom 'cast'\n",
        "def get_top_n_actors(text_data, n=3):\n",
        "    try:\n",
        "        cast_list = ast.literal_eval(text_data)\n",
        "        # Ambil 'name' dari n aktor pertama, urutkan berdasarkan 'order' jika ada\n",
        "        # Di sini kita ambil berdasarkan urutan kemunculan saja\n",
        "        return [actor['name'] for actor in cast_list[:n]]\n",
        "    except:\n",
        "        return []\n",
        "\n",
        "df['cast'] = df['cast'].apply(get_top_n_actors)"
      ],
      "metadata": {
        "id": "Z1mE36jLtM92"
      },
      "execution_count": null,
      "outputs": []
    },
    {
      "cell_type": "markdown",
      "source": [
        "- **Tujuan Fungsi**: Fungsi parse_json_like_string(text_data) dirancang khusus untuk \"mengurai string JSON menjadi list\". Ini mengonfirmasi dugaan sebelumnya bahwa kolom-kolom seperti genres, keywords, cast, dan crew yang sebelumnya terlihat seperti string JSON perlu diuraikan.\n",
        "\n",
        "- **Metode Penguraian (Parsing):**\n",
        "\n",
        " - Fungsi ini menggunakan `ast.literal_eval()`. ast.literal_eval mengevaluasi ekspresi Python yang valid, tidak mengeksekusi kode arbitrer.\n",
        " - Fungsi ini bertujuan untuk mengubah string yang merepresentasikan struktur data Python (seperti daftar kamus) menjadi objek Python yang sebenarnya.\n",
        "\n",
        "- **Ekstraksi Informasi Spesifik:**\n",
        "\n",
        " - Setelah string diuraikan menjadi `items` (yang diharapkan menjadi list of dictionaries), kode mengambil nilai dari kunci `'name'` dari setiap kamus dalam list tersebut (`return [item['name'] for item in items]`). Ini sangat relevan untuk kolom seperti `genres` dan `keywords` di mana yang kita butuhkan hanyalah nama genre atau kata kunci. Untuk `cast` dan `crew`, ini akan mengekstrak nama aktor atau kru.\n"
      ],
      "metadata": {
        "id": "Wgk7zM8IJVWn"
      }
    },
    {
      "cell_type": "code",
      "source": [
        "# Fungsi untuk mendapatkan sutradara dari kolom 'crew'\n",
        "def get_director(text_data):\n",
        "    try:\n",
        "        crew_list = ast.literal_eval(text_data)\n",
        "        for member in crew_list:\n",
        "            if member['job'] == 'Director':\n",
        "                return [member['name']]\n",
        "        return []\n",
        "    except:\n",
        "        return []\n",
        "df['crew'] = df['crew'].apply(get_director)"
      ],
      "metadata": {
        "id": "_kBWGdCutZd2"
      },
      "execution_count": null,
      "outputs": []
    },
    {
      "cell_type": "markdown",
      "source": [
        "- **Parsing String:** Sama seperti fungsi sebelumnya, fungsi ini menggunakan `ast.literal_eval(text_data)` untuk mengurai string `crew` yang berisi struktur JSON (list of dictionaries) menjadi objek list Python.\n",
        "\n",
        "- **Iterasi dan Pencarian:** Fungsi kemudian mengiterasi melalui setiap `member` dalam `crew_list`.\n",
        "\n",
        "- **Kondisi Spesifik:** Ia mencari anggota kru di mana nilai `member['job']` sama dengan `'Director'`.\n",
        "\n",
        "- **Pengembalian Nama:** Jika 'Director' ditemukan, fungsi segera mengembalikan nama sutradara dalam bentuk list (`[member['name']]`). Penting untuk dicatat bahwa ini mengembalikan hanya sutradara pertama yang ditemukan jika ada beberapa entri 'Director'. Mengembalikan dalam bentuk list `[]` menunjukkan konsistensi dengan format keluaran fitur lain (misalnya `genres`, `keywords`) yang juga berupa list.\n",
        "\n",
        "- Baris terakhir df['crew'] = df['crew'].apply(get_director) menunjukkan bagaimana fungsi get_director diterapkan ke seluruh kolom crew dari DataFrame df."
      ],
      "metadata": {
        "id": "wXgfuenAjs2P"
      }
    },
    {
      "cell_type": "code",
      "source": [
        "# Membersihkan spasi dalam nama (misal 'Science Fiction' -> 'ScienceFiction')\n",
        "# agar tidak dianggap sebagai dua kata terpisah oleh TfidfVectorizer\n",
        "def clean_spaces(item_list):\n",
        "    return [str(i).replace(\" \", \"\").lower() for i in item_list]\n",
        "\n",
        "for feature in ['genres', 'keywords', 'cast', 'crew']:\n",
        "    df[feature] = df[feature].apply(clean_spaces)"
      ],
      "metadata": {
        "id": "VHtHPyBnteA_"
      },
      "execution_count": null,
      "outputs": []
    },
    {
      "cell_type": "markdown",
      "source": [
        "- **Tujuan:** Fungsi `clean_spaces(item_list)` dirancang untuk menghapus spasi dari nama-nama (misalnya, \"Science Fiction\" menjadi \"ScienceFiction\").\n",
        "\n",
        "- Fungsi ini diterapkan ke kolom genres, keywords, cast, dan crew. Ini menunjukkan bahwa semua fitur ini akan diolah agar frasa seperti \"Tom Hanks\" menjadi \"tomhanks\" dan \"Action\" menjadi \"action\"."
      ],
      "metadata": {
        "id": "CCz6Le5KnpVd"
      }
    },
    {
      "cell_type": "code",
      "source": [
        "# Menggabungkan fitur-fitur teks menjadi satu 'tag' untuk setiap film\n",
        "# 'overview' diubah menjadi list kata agar bisa digabungkan\n",
        "df['overview'] = df['overview'].apply(lambda x: str(x).split())"
      ],
      "metadata": {
        "id": "KX8zZCSYtoXo"
      },
      "execution_count": null,
      "outputs": []
    },
    {
      "cell_type": "markdown",
      "source": [
        "- Kolom overview diubah menjadi list kata dengan menggunakan str(x).split(). Ini berarti setiap sinopsis akan dipecah menjadi daftar kata-kata individu. Ini adalah langkah standar untuk memproses teks bebas agar siap untuk analisis lebih lanjut (misalnya, TF-IDF)."
      ],
      "metadata": {
        "id": "KabZK6JJoGqk"
      }
    },
    {
      "cell_type": "code",
      "source": [
        "# Membuat kolom 'tags' yang merupakan gabungan dari overview, genres, keywords, cast, dan crew\n",
        "df['tags'] = df['overview'] + df['genres'] + df['keywords'] + df['cast'] + df['crew']"
      ],
      "metadata": {
        "id": "RPS-cSwvt0dQ"
      },
      "execution_count": null,
      "outputs": []
    },
    {
      "cell_type": "markdown",
      "source": [
        "- Penggabungan Fitur: Ini adalah langkah feature engineering yang sangat penting. Kolom tags dibuat dengan menggabungkan konten dari overview, genres, keywords, cast, dan crew.\n",
        "\n",
        "- Tujuan: Menggabungkan semua fitur ini ke dalam satu kolom tags menciptakan representasi teks tunggal yang kaya untuk setiap film, yang akan menjadi dasar untuk content-based filtering. Ini memungkinkan model untuk menemukan kesamaan antar film berdasarkan gabungan dari semua elemen ini."
      ],
      "metadata": {
        "id": "Kg7V31dZoMSF"
      }
    },
    {
      "cell_type": "code",
      "source": [
        "# Menggabungkan list kata dalam 'tags' menjadi satu string per film\n",
        "df['tags'] = df['tags'].apply(lambda x: \" \".join(x).lower()) # gabungkan dan ubah ke lowercase"
      ],
      "metadata": {
        "id": "8ZLopmpft2du"
      },
      "execution_count": null,
      "outputs": []
    },
    {
      "cell_type": "markdown",
      "source": [
        "- Setelah tags menjadi daftar dari daftar (list of lists, karena penggabungan kolom yang sudah berupa list), langkah selanjutnya adalah menggabungkan semua kata dalam list tags menjadi satu string tunggal per film.\n",
        "- Ini dilakukan dengan lambda x: \" \".join(x).lower(), yang menggabungkan semua elemen dalam list x dengan spasi di antaranya dan mengubahnya menjadi huruf kecil. Ini menghasilkan string \"tag\" akhir yang bersih dan siap untuk vektorisasi teks."
      ],
      "metadata": {
        "id": "B18UJavfoWpt"
      }
    },
    {
      "cell_type": "code",
      "source": [
        "# Membuat dataframe baru yang hanya berisi 'movie_id', 'title', dan 'tags'\n",
        "final_df = df[['movie_id', 'title', 'tags']]"
      ],
      "metadata": {
        "id": "geT_VFFkt5Z_"
      },
      "execution_count": null,
      "outputs": []
    },
    {
      "cell_type": "markdown",
      "source": [
        "- final_df dibuat, hanya berisi kolom movie_id, title, dan tags. Ini menunjukkan bahwa semua fitur lain yang telah diolah dan digabungkan kini direpresentasikan dalam kolom tags, dan hanya tiga kolom ini yang diperlukan untuk tahap berikutnya (misalnya, pembuatan matriks kesamaan dan rekomendasi)."
      ],
      "metadata": {
        "id": "keTcqYenoqKL"
      }
    },
    {
      "cell_type": "code",
      "source": [
        "print(\"\\nContoh 'tags' untuk film pertama:\")\n",
        "print(final_df['tags'].iloc[0][:500] + \"...\") # Tampilkan 500 karakter pertama\n",
        "print(\"-\" * 30)"
      ],
      "metadata": {
        "colab": {
          "base_uri": "https://localhost:8080/"
        },
        "id": "JlzfM5kCt8T1",
        "outputId": "018bd37a-ce4c-4bef-9404-859f2a4190d4"
      },
      "execution_count": null,
      "outputs": [
        {
          "output_type": "stream",
          "name": "stdout",
          "text": [
            "\n",
            "Contoh 'tags' untuk film pertama:\n",
            "in the 22nd century, a paraplegic marine is dispatched to the moon pandora on a unique mission, but becomes torn between following orders and protecting an alien civilization. action adventure fantasy sciencefiction cultureclash future spacewar spacecolony society spacetravel futuristic romance space alien tribe alienplanet cgi marine soldier battle loveaffair antiwar powerrelations mindandsoul 3d samworthington zoesaldana sigourneyweaver jamescameron...\n",
            "------------------------------\n"
          ]
        }
      ]
    },
    {
      "cell_type": "markdown",
      "source": [
        "- Baris print(final_df['tags'].iloc[0][:500] + \"...\") digunakan untuk menampilkan 500 karakter pertama dari kolom tags untuk film pertama. Ini adalah langkah yang baik untuk memverifikasi format dan isi dari kolom tags yang telah diproses."
      ],
      "metadata": {
        "id": "Vy2N8pIWon3M"
      }
    },
    {
      "cell_type": "markdown",
      "source": [
        "# Model Development dengan Content Based Filtering"
      ],
      "metadata": {
        "id": "Mwiwa-QCxbP0"
      }
    },
    {
      "cell_type": "code",
      "source": [
        "data= final_df\n",
        "data.sample(5)"
      ],
      "metadata": {
        "colab": {
          "base_uri": "https://localhost:8080/",
          "height": 206
        },
        "id": "HZiDs0dpt_JN",
        "outputId": "0cae0faa-3572-4da0-bb1e-59ea11b4de70"
      },
      "execution_count": null,
      "outputs": [
        {
          "output_type": "execute_result",
          "data": {
            "text/plain": [
              "      movie_id                                     title  \\\n",
              "1761     34584                     The NeverEnding Story   \n",
              "3471     57612  Dolphins and Whales: Tribes of the Ocean   \n",
              "1572      9870                 Forgetting Sarah Marshall   \n",
              "1299     11529                        Sweet Home Alabama   \n",
              "3711      4550               Sympathy for Lady Vengeance   \n",
              "\n",
              "                                                   tags  \n",
              "1761  while hiding from bullies in his school's atti...  \n",
              "3471  this documentary goes to coral reefs of the ba...  \n",
              "1572  when sarah marshall dumps aspiring musician pe...  \n",
              "1299  new york fashion designer melanie carmichael s...  \n",
              "3711  after a 13-year imprisonment for the kidnap an...  "
            ],
            "text/html": [
              "\n",
              "  <div id=\"df-6d83ed5a-072e-4984-b4cc-4c731195a79f\" class=\"colab-df-container\">\n",
              "    <div>\n",
              "<style scoped>\n",
              "    .dataframe tbody tr th:only-of-type {\n",
              "        vertical-align: middle;\n",
              "    }\n",
              "\n",
              "    .dataframe tbody tr th {\n",
              "        vertical-align: top;\n",
              "    }\n",
              "\n",
              "    .dataframe thead th {\n",
              "        text-align: right;\n",
              "    }\n",
              "</style>\n",
              "<table border=\"1\" class=\"dataframe\">\n",
              "  <thead>\n",
              "    <tr style=\"text-align: right;\">\n",
              "      <th></th>\n",
              "      <th>movie_id</th>\n",
              "      <th>title</th>\n",
              "      <th>tags</th>\n",
              "    </tr>\n",
              "  </thead>\n",
              "  <tbody>\n",
              "    <tr>\n",
              "      <th>1761</th>\n",
              "      <td>34584</td>\n",
              "      <td>The NeverEnding Story</td>\n",
              "      <td>while hiding from bullies in his school's atti...</td>\n",
              "    </tr>\n",
              "    <tr>\n",
              "      <th>3471</th>\n",
              "      <td>57612</td>\n",
              "      <td>Dolphins and Whales: Tribes of the Ocean</td>\n",
              "      <td>this documentary goes to coral reefs of the ba...</td>\n",
              "    </tr>\n",
              "    <tr>\n",
              "      <th>1572</th>\n",
              "      <td>9870</td>\n",
              "      <td>Forgetting Sarah Marshall</td>\n",
              "      <td>when sarah marshall dumps aspiring musician pe...</td>\n",
              "    </tr>\n",
              "    <tr>\n",
              "      <th>1299</th>\n",
              "      <td>11529</td>\n",
              "      <td>Sweet Home Alabama</td>\n",
              "      <td>new york fashion designer melanie carmichael s...</td>\n",
              "    </tr>\n",
              "    <tr>\n",
              "      <th>3711</th>\n",
              "      <td>4550</td>\n",
              "      <td>Sympathy for Lady Vengeance</td>\n",
              "      <td>after a 13-year imprisonment for the kidnap an...</td>\n",
              "    </tr>\n",
              "  </tbody>\n",
              "</table>\n",
              "</div>\n",
              "    <div class=\"colab-df-buttons\">\n",
              "\n",
              "  <div class=\"colab-df-container\">\n",
              "    <button class=\"colab-df-convert\" onclick=\"convertToInteractive('df-6d83ed5a-072e-4984-b4cc-4c731195a79f')\"\n",
              "            title=\"Convert this dataframe to an interactive table.\"\n",
              "            style=\"display:none;\">\n",
              "\n",
              "  <svg xmlns=\"http://www.w3.org/2000/svg\" height=\"24px\" viewBox=\"0 -960 960 960\">\n",
              "    <path d=\"M120-120v-720h720v720H120Zm60-500h600v-160H180v160Zm220 220h160v-160H400v160Zm0 220h160v-160H400v160ZM180-400h160v-160H180v160Zm440 0h160v-160H620v160ZM180-180h160v-160H180v160Zm440 0h160v-160H620v160Z\"/>\n",
              "  </svg>\n",
              "    </button>\n",
              "\n",
              "  <style>\n",
              "    .colab-df-container {\n",
              "      display:flex;\n",
              "      gap: 12px;\n",
              "    }\n",
              "\n",
              "    .colab-df-convert {\n",
              "      background-color: #E8F0FE;\n",
              "      border: none;\n",
              "      border-radius: 50%;\n",
              "      cursor: pointer;\n",
              "      display: none;\n",
              "      fill: #1967D2;\n",
              "      height: 32px;\n",
              "      padding: 0 0 0 0;\n",
              "      width: 32px;\n",
              "    }\n",
              "\n",
              "    .colab-df-convert:hover {\n",
              "      background-color: #E2EBFA;\n",
              "      box-shadow: 0px 1px 2px rgba(60, 64, 67, 0.3), 0px 1px 3px 1px rgba(60, 64, 67, 0.15);\n",
              "      fill: #174EA6;\n",
              "    }\n",
              "\n",
              "    .colab-df-buttons div {\n",
              "      margin-bottom: 4px;\n",
              "    }\n",
              "\n",
              "    [theme=dark] .colab-df-convert {\n",
              "      background-color: #3B4455;\n",
              "      fill: #D2E3FC;\n",
              "    }\n",
              "\n",
              "    [theme=dark] .colab-df-convert:hover {\n",
              "      background-color: #434B5C;\n",
              "      box-shadow: 0px 1px 3px 1px rgba(0, 0, 0, 0.15);\n",
              "      filter: drop-shadow(0px 1px 2px rgba(0, 0, 0, 0.3));\n",
              "      fill: #FFFFFF;\n",
              "    }\n",
              "  </style>\n",
              "\n",
              "    <script>\n",
              "      const buttonEl =\n",
              "        document.querySelector('#df-6d83ed5a-072e-4984-b4cc-4c731195a79f button.colab-df-convert');\n",
              "      buttonEl.style.display =\n",
              "        google.colab.kernel.accessAllowed ? 'block' : 'none';\n",
              "\n",
              "      async function convertToInteractive(key) {\n",
              "        const element = document.querySelector('#df-6d83ed5a-072e-4984-b4cc-4c731195a79f');\n",
              "        const dataTable =\n",
              "          await google.colab.kernel.invokeFunction('convertToInteractive',\n",
              "                                                    [key], {});\n",
              "        if (!dataTable) return;\n",
              "\n",
              "        const docLinkHtml = 'Like what you see? Visit the ' +\n",
              "          '<a target=\"_blank\" href=https://colab.research.google.com/notebooks/data_table.ipynb>data table notebook</a>'\n",
              "          + ' to learn more about interactive tables.';\n",
              "        element.innerHTML = '';\n",
              "        dataTable['output_type'] = 'display_data';\n",
              "        await google.colab.output.renderOutput(dataTable, element);\n",
              "        const docLink = document.createElement('div');\n",
              "        docLink.innerHTML = docLinkHtml;\n",
              "        element.appendChild(docLink);\n",
              "      }\n",
              "    </script>\n",
              "  </div>\n",
              "\n",
              "\n",
              "    <div id=\"df-4b0b3823-51ae-4e99-8c2a-b0be83c2cf8f\">\n",
              "      <button class=\"colab-df-quickchart\" onclick=\"quickchart('df-4b0b3823-51ae-4e99-8c2a-b0be83c2cf8f')\"\n",
              "                title=\"Suggest charts\"\n",
              "                style=\"display:none;\">\n",
              "\n",
              "<svg xmlns=\"http://www.w3.org/2000/svg\" height=\"24px\"viewBox=\"0 0 24 24\"\n",
              "     width=\"24px\">\n",
              "    <g>\n",
              "        <path d=\"M19 3H5c-1.1 0-2 .9-2 2v14c0 1.1.9 2 2 2h14c1.1 0 2-.9 2-2V5c0-1.1-.9-2-2-2zM9 17H7v-7h2v7zm4 0h-2V7h2v10zm4 0h-2v-4h2v4z\"/>\n",
              "    </g>\n",
              "</svg>\n",
              "      </button>\n",
              "\n",
              "<style>\n",
              "  .colab-df-quickchart {\n",
              "      --bg-color: #E8F0FE;\n",
              "      --fill-color: #1967D2;\n",
              "      --hover-bg-color: #E2EBFA;\n",
              "      --hover-fill-color: #174EA6;\n",
              "      --disabled-fill-color: #AAA;\n",
              "      --disabled-bg-color: #DDD;\n",
              "  }\n",
              "\n",
              "  [theme=dark] .colab-df-quickchart {\n",
              "      --bg-color: #3B4455;\n",
              "      --fill-color: #D2E3FC;\n",
              "      --hover-bg-color: #434B5C;\n",
              "      --hover-fill-color: #FFFFFF;\n",
              "      --disabled-bg-color: #3B4455;\n",
              "      --disabled-fill-color: #666;\n",
              "  }\n",
              "\n",
              "  .colab-df-quickchart {\n",
              "    background-color: var(--bg-color);\n",
              "    border: none;\n",
              "    border-radius: 50%;\n",
              "    cursor: pointer;\n",
              "    display: none;\n",
              "    fill: var(--fill-color);\n",
              "    height: 32px;\n",
              "    padding: 0;\n",
              "    width: 32px;\n",
              "  }\n",
              "\n",
              "  .colab-df-quickchart:hover {\n",
              "    background-color: var(--hover-bg-color);\n",
              "    box-shadow: 0 1px 2px rgba(60, 64, 67, 0.3), 0 1px 3px 1px rgba(60, 64, 67, 0.15);\n",
              "    fill: var(--button-hover-fill-color);\n",
              "  }\n",
              "\n",
              "  .colab-df-quickchart-complete:disabled,\n",
              "  .colab-df-quickchart-complete:disabled:hover {\n",
              "    background-color: var(--disabled-bg-color);\n",
              "    fill: var(--disabled-fill-color);\n",
              "    box-shadow: none;\n",
              "  }\n",
              "\n",
              "  .colab-df-spinner {\n",
              "    border: 2px solid var(--fill-color);\n",
              "    border-color: transparent;\n",
              "    border-bottom-color: var(--fill-color);\n",
              "    animation:\n",
              "      spin 1s steps(1) infinite;\n",
              "  }\n",
              "\n",
              "  @keyframes spin {\n",
              "    0% {\n",
              "      border-color: transparent;\n",
              "      border-bottom-color: var(--fill-color);\n",
              "      border-left-color: var(--fill-color);\n",
              "    }\n",
              "    20% {\n",
              "      border-color: transparent;\n",
              "      border-left-color: var(--fill-color);\n",
              "      border-top-color: var(--fill-color);\n",
              "    }\n",
              "    30% {\n",
              "      border-color: transparent;\n",
              "      border-left-color: var(--fill-color);\n",
              "      border-top-color: var(--fill-color);\n",
              "      border-right-color: var(--fill-color);\n",
              "    }\n",
              "    40% {\n",
              "      border-color: transparent;\n",
              "      border-right-color: var(--fill-color);\n",
              "      border-top-color: var(--fill-color);\n",
              "    }\n",
              "    60% {\n",
              "      border-color: transparent;\n",
              "      border-right-color: var(--fill-color);\n",
              "    }\n",
              "    80% {\n",
              "      border-color: transparent;\n",
              "      border-right-color: var(--fill-color);\n",
              "      border-bottom-color: var(--fill-color);\n",
              "    }\n",
              "    90% {\n",
              "      border-color: transparent;\n",
              "      border-bottom-color: var(--fill-color);\n",
              "    }\n",
              "  }\n",
              "</style>\n",
              "\n",
              "      <script>\n",
              "        async function quickchart(key) {\n",
              "          const quickchartButtonEl =\n",
              "            document.querySelector('#' + key + ' button');\n",
              "          quickchartButtonEl.disabled = true;  // To prevent multiple clicks.\n",
              "          quickchartButtonEl.classList.add('colab-df-spinner');\n",
              "          try {\n",
              "            const charts = await google.colab.kernel.invokeFunction(\n",
              "                'suggestCharts', [key], {});\n",
              "          } catch (error) {\n",
              "            console.error('Error during call to suggestCharts:', error);\n",
              "          }\n",
              "          quickchartButtonEl.classList.remove('colab-df-spinner');\n",
              "          quickchartButtonEl.classList.add('colab-df-quickchart-complete');\n",
              "        }\n",
              "        (() => {\n",
              "          let quickchartButtonEl =\n",
              "            document.querySelector('#df-4b0b3823-51ae-4e99-8c2a-b0be83c2cf8f button');\n",
              "          quickchartButtonEl.style.display =\n",
              "            google.colab.kernel.accessAllowed ? 'block' : 'none';\n",
              "        })();\n",
              "      </script>\n",
              "    </div>\n",
              "\n",
              "    </div>\n",
              "  </div>\n"
            ],
            "application/vnd.google.colaboratory.intrinsic+json": {
              "type": "dataframe",
              "summary": "{\n  \"name\": \"data\",\n  \"rows\": 5,\n  \"fields\": [\n    {\n      \"column\": \"movie_id\",\n      \"properties\": {\n        \"dtype\": \"number\",\n        \"std\": 22218,\n        \"min\": 4550,\n        \"max\": 57612,\n        \"num_unique_values\": 5,\n        \"samples\": [\n          57612,\n          4550,\n          9870\n        ],\n        \"semantic_type\": \"\",\n        \"description\": \"\"\n      }\n    },\n    {\n      \"column\": \"title\",\n      \"properties\": {\n        \"dtype\": \"string\",\n        \"num_unique_values\": 5,\n        \"samples\": [\n          \"Dolphins and Whales: Tribes of the Ocean\",\n          \"Sympathy for Lady Vengeance\",\n          \"Forgetting Sarah Marshall\"\n        ],\n        \"semantic_type\": \"\",\n        \"description\": \"\"\n      }\n    },\n    {\n      \"column\": \"tags\",\n      \"properties\": {\n        \"dtype\": \"string\",\n        \"num_unique_values\": 5,\n        \"samples\": [\n          \"this documentary goes to coral reefs of the bahamas and the waters of the kingdom of tonga for a close encounter with the surviving tribes of the ocean: wild dolphins and belugas, the love of a humpback mother for her newborn calf, the singing humpback males, an orca the mighty king of the ocean, and the gentle manatee. little-known aspects of these creatures capable of sophisticated communication and social interaction. documents the life of these graceful, majestic yet endangered sea creatures documentary dolphin whale killerwhale imax 3d manatee conservation darylhannah charlotterampling jean-jacquesmantello\",\n          \"after a 13-year imprisonment for the kidnap and murder of a 6 year old boy, beautiful lee guem-ja starts seeking revenge on the man that was really responsible for the boy's death. with the help of fellow inmates and reunited with her daughter, she gets closer and closer to her goal. but will her actions lead to the relief she seeks? drama thriller independentfilm choimin-sik leeyoung-ae kwonyea-young parkchan-wook\",\n          \"when sarah marshall dumps aspiring musician peter bretter for rock star aldous snow, peter's world comes crashing down. his best friend suggests that peter should get away from everything and to fly off to hawaii to escape all his problems. after arriving in hawaii and meeting the beautiful rachel jansen, peter is shocked to see not only aldous snow in hawaii, but also sarah marshall. comedy romance drama hawaii one-nightstand beauty jasonsegel kristenbell milakunis nicholasstoller\"\n        ],\n        \"semantic_type\": \"\",\n        \"description\": \"\"\n      }\n    }\n  ]\n}"
            }
          },
          "metadata": {},
          "execution_count": 25
        }
      ]
    },
    {
      "cell_type": "markdown",
      "source": [
        "- mengambil 5 data sample secara random dari variabel data yang di simpan dalam variabel final_df"
      ],
      "metadata": {
        "id": "XXMEicMtoylO"
      }
    },
    {
      "cell_type": "markdown",
      "source": [
        "## TF-IDF Vectorizer"
      ],
      "metadata": {
        "id": "ZrctdiJfyhDC"
      }
    },
    {
      "cell_type": "code",
      "source": [
        "# --- Tahap 5: Feature Extraction (TF-IDF) ---\n",
        "print(\"Tahap 5: Feature Extraction (TF-IDF)...\")\n",
        "\n",
        "# Membuat TfidfVectorizer\n",
        "# max_features: batasi jumlah fitur yang digunakan untuk efisiensi\n",
        "# stop_words: hilangkan kata-kata umum\n",
        "tfidf_vectorizer = TfidfVectorizer(max_features=5000, stop_words='english')\n",
        "\n",
        "# Membuat matriks TF-IDF dari kolom 'tags'\n",
        "tfidf_matrix = tfidf_vectorizer.fit_transform(data['tags'])\n",
        "\n",
        "print(\"\\nUkuran matriks TF-IDF:\", tfidf_matrix.shape)\n",
        "# tfidf_matrix.shape akan menjadi (jumlah film, max_features)\n",
        "print(\"-\" * 30)"
      ],
      "metadata": {
        "colab": {
          "base_uri": "https://localhost:8080/"
        },
        "id": "vqctN_KdxB_9",
        "outputId": "4b2cbf06-698a-46e7-c636-61156446365b"
      },
      "execution_count": null,
      "outputs": [
        {
          "output_type": "stream",
          "name": "stdout",
          "text": [
            "Tahap 5: Feature Extraction (TF-IDF)...\n",
            "\n",
            "Ukuran matriks TF-IDF: (4800, 5000)\n",
            "------------------------------\n"
          ]
        }
      ]
    },
    {
      "cell_type": "markdown",
      "source": [
        "1. **Menginisialisasi `TfidfVectorizer`**:\n",
        "\n",
        " - Tujuannya adalah untuk menyiapkan alat yang akan mengubah teks menjadi representasi numerik.\n",
        "\n",
        " - Parameter `max_features=5000` bertujuan untuk membatasi kompleksitas model dan komputasi dengan hanya mempertimbangkan 5000 kata yang paling relevan atau sering muncul. Ini penting untuk efisiensi dan untuk menghindari masalah \"dimensi tinggi\" (high dimensionality) yang bisa memperlambat proses atau bahkan menurunkan performa model.\n",
        "\n",
        " - Parameter `stop_words='english'` bertujuan untuk menghilangkan kata-kata umum dalam bahasa Inggris (seperti \"dan\", \"adalah\", \"yang\", dll.) yang sering muncul tetapi tidak banyak memberikan informasi diskriminatif tentang konten sebuah film. Menghilangkannya membantu fokus pada kata-kata yang lebih bermakna.\n",
        "\n",
        "2. **Membuat Matriks TF-IDF dari Kolom `tags`**:\n",
        "\n",
        " - Tujuannya adalah untuk mengubah data teks (dari kolom tags yang berisi gabungan overview, genres, keywords, cast, dan crew) menjadi format numerik.\n",
        " - `tfidf_vectorizer.fit_transform(data['tags'])` melakukan dua hal penting:\n",
        "    - `fit`: Mempelajari kosakata unik dari semua \"tags\" film dan menetapkan indeks numerik untuk setiap kata.\n",
        "    - `transform`: Menghitung skor TF-IDF untuk setiap kata dalam setiap film. Skor ini merefleksikan seberapa sering sebuah kata muncul dalam sebuah film (Term Frequency) dikalikan dengan seberapa jarang kata tersebut muncul di seluruh koleksi film (Inverse Document Frequency). Semakin tinggi skor TF-IDF suatu kata, semakin penting kata tersebut untuk mendefinisikan konten film tersebut di antara film-film lainnya.\n",
        " - Hasilnya adalah `tfidf_matrix`, sebuah matriks di mana setiap baris mewakili satu film, dan setiap kolom mewakili sebuah kata unik dengan nilai TF-IDF-nya.\n",
        "\n",
        "3. Menampilkan Ukuran Matriks TF-IDF:\n",
        "\n",
        "- Tujuannya adalah untuk memverifikasi dimensi dari matriks yang dihasilkan (`tfidf_matrix.shape`). Ini memberikan informasi tentang jumlah film (baris) dan jumlah fitur/kata yang dipertahankan (kolom), memastikan bahwa proses vektorisasi berjalan sesuai harapan dan memberikan gambaran tentang ukuran data yang akan diproses selanjutnya."
      ],
      "metadata": {
        "id": "kRnI0erVpgZ9"
      }
    },
    {
      "cell_type": "markdown",
      "source": [
        "## cosine similaritas"
      ],
      "metadata": {
        "id": "SnmEMxL9yoHD"
      }
    },
    {
      "cell_type": "code",
      "source": [
        "# --- Tahap 6: Menghitung Similaritas Cosine ---\n",
        "print(\"Tahap 6: Menghitung Similaritas Cosine...\")\n",
        "# Menghitung matriks similaritas cosine antara semua film berdasarkan vektor TF-IDF mereka.\n",
        "cosine_sim = cosine_similarity(tfidf_matrix, tfidf_matrix)\n",
        "\n",
        "print(\"\\nUkuran matriks similaritas cosine:\", cosine_sim.shape)\n",
        "print(\"-\" * 30)"
      ],
      "metadata": {
        "colab": {
          "base_uri": "https://localhost:8080/"
        },
        "id": "ALuB10dbyuyw",
        "outputId": "170ecd28-2f38-465a-b286-ac0a5f9763f5"
      },
      "execution_count": null,
      "outputs": [
        {
          "output_type": "stream",
          "name": "stdout",
          "text": [
            "Tahap 6: Menghitung Similaritas Cosine...\n",
            "\n",
            "Ukuran matriks similaritas cosine: (4800, 4800)\n",
            "------------------------------\n"
          ]
        }
      ]
    },
    {
      "cell_type": "markdown",
      "source": [
        "1. **Menentukan Kesamaan Konten Antar Film:**\n",
        "\n",
        " - Kode ini mengambil `tfidf_matrix` sebagai input. `tfidf_matrix` adalah representasi numerik dari konten setiap film (yang telah diolah dari `overview`, `genres`, `keywords`, `cast`, dan `crew`).\n",
        " - Dengan menghitung cosine similarity antara setiap pasang vektor TF-IDF film, kode ini bertujuan untuk mengukur seberapa mirip dua film satu sama lain berdasarkan isi teks mereka.\n",
        "2. **Membentuk Fondasi untuk Rekomendasi Berbasis Konten:**\n",
        " - Matriks `cosine_sim` yang dihasilkan adalah komponen kunci dalam sistem rekomendasi berbasis konten. Setelah matriks ini terbentuk, sistem dapat:\n",
        "    - Menemukan film yang paling mirip dengan film tertentu (misalnya, film yang sedang ditonton pengguna).\n",
        "    - Merekomendasikan film-film yang memiliki skor kesamaan tinggi dengan film yang sudah disukai pengguna."
      ],
      "metadata": {
        "id": "skCoekFQymLp"
      }
    },
    {
      "cell_type": "code",
      "source": [
        "# --- Tahap 7: Membuat Fungsi Rekomendasi ---\n",
        "print(\"Tahap 7: Membuat Fungsi Rekomendasi...\")\n",
        "\n",
        "# Membuat mapping antara judul film dan indeksnya di DataFrame\n",
        "# Ini berguna untuk mencari film berdasarkan judul dan mendapatkan skor similaritasnya.\n",
        "# Reset index data agar sesuai dengan indeks matriks cosine_sim\n",
        "data = data.reset_index(drop=True)\n",
        "indices = pd.Series(data.index, index=data['title'])"
      ],
      "metadata": {
        "colab": {
          "base_uri": "https://localhost:8080/"
        },
        "id": "O_cykxjTywL9",
        "outputId": "dba1ac98-f616-4bb8-8132-a5ef5423836e"
      },
      "execution_count": null,
      "outputs": [
        {
          "output_type": "stream",
          "name": "stdout",
          "text": [
            "Tahap 7: Membuat Fungsi Rekomendasi...\n"
          ]
        }
      ]
    },
    {
      "cell_type": "markdown",
      "source": [
        "- tujuan dari kode ini adalah untuk membangun \"kamus\" atau \"peta\" yang efisien antara judul film dan posisi indeks numeriknya, setelah memastikan bahwa indeks data itu sendiri berurutan dan konsisten."
      ],
      "metadata": {
        "id": "RcEvEjYF08aw"
      }
    },
    {
      "cell_type": "code",
      "source": [
        "def get_recommendations(title, cosine_sim_matrix=cosine_sim, df=data, movie_indices=indices, top_n=10):\n",
        "    \"\"\"\n",
        "    Fungsi untuk mendapatkan rekomendasi film berdasarkan similaritas konten.\n",
        "    \"\"\"\n",
        "    # Mendapatkan indeks film yang cocok dengan judul\n",
        "    try:\n",
        "        idx = movie_indices[title]\n",
        "    except KeyError:\n",
        "        # Jika judul tidak ditemukan persis, coba cari yang mirip\n",
        "        similar_titles = [t for t in movie_indices.index if title.lower() in t.lower()]\n",
        "        if not similar_titles:\n",
        "            return f\"Film dengan judul yang mengandung '{title}' tidak ditemukan.\"\n",
        "        elif len(similar_titles) > 1:\n",
        "            print(f\"Ditemukan beberapa judul yang mirip dengan '{title}': {similar_titles}. Menggunakan '{similar_titles[0]}'.\")\n",
        "            idx = movie_indices[similar_titles[0]]\n",
        "        else:\n",
        "            idx = movie_indices[similar_titles[0]]\n",
        "\n",
        "\n",
        "    # Jika ada beberapa film dengan judul yang sama (setelah pencarian parsial), ambil yang pertama\n",
        "    if isinstance(idx, pd.Series):\n",
        "        idx = idx.iloc[0]\n",
        "\n",
        "    # Mendapatkan skor similaritas dari semua film dengan film yang diberikan\n",
        "    sim_scores = list(enumerate(cosine_sim_matrix[idx]))\n",
        "\n",
        "    # Mengurutkan film berdasarkan skor similaritas\n",
        "    sim_scores = sorted(sim_scores, key=lambda x: x[1], reverse=True)\n",
        "\n",
        "    # Mendapatkan skor dari N film paling mirip (tidak termasuk film itu sendiri)\n",
        "    sim_scores = sim_scores[1:(top_n + 1)]\n",
        "\n",
        "    # Mendapatkan indeks film dari skor yang sudah diurutkan\n",
        "    movie_indices_rec = [i[0] for i in sim_scores]\n",
        "\n",
        "    # Mengembalikan judul dari N film paling mirip beserta skor similaritasnya\n",
        "    recommended_movies = df['title'].iloc[movie_indices_rec]\n",
        "    similarity_scores_rec = [round(s[1], 3) for s in sim_scores]\n",
        "\n",
        "    return pd.DataFrame({'Judul Film Rekomendasi': recommended_movies, 'Skor Similaritas': similarity_scores_rec})\n",
        "\n",
        "print(\"Fungsi rekomendasi siap digunakan.\")\n",
        "print(\"-\" * 30)\n"
      ],
      "metadata": {
        "colab": {
          "base_uri": "https://localhost:8080/"
        },
        "id": "ZXjc4-Qpzg4y",
        "outputId": "c677a9c6-e8f4-4e55-b7bf-474df7f26e8f"
      },
      "execution_count": null,
      "outputs": [
        {
          "output_type": "stream",
          "name": "stdout",
          "text": [
            "Fungsi rekomendasi siap digunakan.\n",
            "------------------------------\n"
          ]
        }
      ]
    },
    {
      "cell_type": "markdown",
      "source": [
        "1. **Definisi Fungsi `get_recommendations`:**\n",
        "  - Fungsi ini dirancang untuk menerima:\n",
        "    - `title`: Judul film yang ingin dicari rekomendasinya.\n",
        "    - `cosine_sim_matrix`: Matriks similaritas kosinus (cosine_sim) yang telah dihitung sebelumnya.\n",
        "    - `df`: DataFrame utama yang berisi informasi film (terutama untuk mendapatkan judul film).\n",
        "    - `movie_indices`: Pandas Series yang memetakan judul film ke indeks numeriknya.\n",
        "    - `top_n`: Jumlah rekomendasi film yang diinginkan (default 10).\n",
        "\n",
        "2. **Mendapatkan Indeks Film dari Judul (Pencarian & Penanganan Error):**\n",
        "\n",
        " - **Tujuan:** Menemukan indeks numerik dari film yang judulnya diberikan. Ini sangat penting karena perhitungan similaritas dan matriks `cosine_sim` bekerja dengan indeks numerik, bukan judul.\n",
        "\n",
        "3. **Mendapatkan Skor Similaritas:**\n",
        " - Tujuan:** Mengambil baris dari `cosine_sim_matrix` yang sesuai dengan film yang diberikan (idx). Baris ini berisi skor similaritas film yang diberikan dengan setiap film lainnya dalam dataset.\n",
        "\n",
        "4. **Mengurutkan Skor Similaritas:**\n",
        " - Tujuan: Mengurutkan daftar `sim_scores` dari skor similaritas tertinggi ke terendah. Ini memastikan bahwa film yang paling mirip akan muncul di bagian atas daftar."
      ],
      "metadata": {
        "id": "OgCEbHMk1UYZ"
      }
    },
    {
      "cell_type": "markdown",
      "source": [
        "# Mendapatkan rekomendasi"
      ],
      "metadata": {
        "id": "I2BuWTcA0yt4"
      }
    },
    {
      "cell_type": "code",
      "source": [
        "# --- Tahap 8: Mendapatkan Rekomendasi ---\n",
        "print(\"Tahap 8: Mendapatkan Rekomendasi...\")\n",
        "\n",
        "# Contoh penggunaan:\n",
        "movie_title_to_recommend = 'Avatar'\n",
        "recommendations = get_recommendations(movie_title_to_recommend)\n",
        "print(f\"\\nRekomendasi untuk '{movie_title_to_recommend}':\")\n",
        "if isinstance(recommendations, pd.DataFrame):\n",
        "    print(recommendations)\n",
        "else:\n",
        "    print(recommendations) # Jika film tidak ditemukan\n",
        "\n",
        "print(\"-\" * 30)"
      ],
      "metadata": {
        "colab": {
          "base_uri": "https://localhost:8080/"
        },
        "id": "SnGiDVOSzn4Y",
        "outputId": "c7bb9825-4ed1-46ef-b77d-e0409ba925a7"
      },
      "execution_count": null,
      "outputs": [
        {
          "output_type": "stream",
          "name": "stdout",
          "text": [
            "Tahap 8: Mendapatkan Rekomendasi...\n",
            "\n",
            "Rekomendasi untuk 'Avatar':\n",
            "       Judul Film Rekomendasi  Skor Similaritas\n",
            "3723            Falcon Rising             0.204\n",
            "582       Battle: Los Angeles             0.194\n",
            "3603                Apollo 18             0.184\n",
            "47    Star Trek Into Darkness             0.171\n",
            "1201                Predators             0.166\n",
            "539                Titan A.E.             0.166\n",
            "2403                   Aliens             0.163\n",
            "942          The Book of Life             0.163\n",
            "260              Ender's Game             0.160\n",
            "557                   Jarhead             0.160\n",
            "------------------------------\n"
          ]
        }
      ]
    },
    {
      "cell_type": "markdown",
      "source": [
        "- kode diatas berfungsi untuk mendapatkan rekomendasi film  dan skor similaritasnya"
      ],
      "metadata": {
        "id": "7U0Qjqckz7ei"
      }
    },
    {
      "cell_type": "markdown",
      "source": [
        "# Inference Rekomendasi"
      ],
      "metadata": {
        "id": "BiEL4OIt6Vw9"
      }
    },
    {
      "cell_type": "code",
      "source": [
        "movie_title_to_recommend_2 = 'The Dark Knight Rises'\n",
        "recommendations_2 = get_recommendations(movie_title_to_recommend_2)\n",
        "print(f\"\\nRekomendasi untuk '{movie_title_to_recommend_2}':\")\n",
        "if isinstance(recommendations_2, pd.DataFrame):\n",
        "    print(recommendations_2)\n",
        "else:\n",
        "    print(recommendations_2)\n",
        "\n",
        "print(\"-\" * 30)"
      ],
      "metadata": {
        "colab": {
          "base_uri": "https://localhost:8080/"
        },
        "id": "ZQaXQLV2zzoQ",
        "outputId": "ef68e97b-fc78-475b-fe70-5f0f555518f2"
      },
      "execution_count": null,
      "outputs": [
        {
          "output_type": "stream",
          "name": "stdout",
          "text": [
            "\n",
            "Rekomendasi untuk 'The Dark Knight Rises':\n",
            "                       Judul Film Rekomendasi  Skor Similaritas\n",
            "65                            The Dark Knight             0.445\n",
            "428                            Batman Returns             0.390\n",
            "119                             Batman Begins             0.331\n",
            "299                            Batman Forever             0.319\n",
            "1359                                   Batman             0.282\n",
            "3853  Batman: The Dark Knight Returns, Part 2             0.249\n",
            "9          Batman v Superman: Dawn of Justice             0.242\n",
            "210                            Batman & Robin             0.223\n",
            "2507                                Slow Burn             0.194\n",
            "3818                                 Defendor             0.140\n",
            "------------------------------\n"
          ]
        }
      ]
    },
    {
      "cell_type": "markdown",
      "source": [
        "- kode diatas untuk menguji model development berdasarkan judul movienya"
      ],
      "metadata": {
        "id": "LUG6ehjV0LiJ"
      }
    },
    {
      "cell_type": "code",
      "source": [
        "# Contoh dengan judul yang mungkin tidak persis\n",
        "movie_title_to_recommend_3 = 'batman'\n",
        "recommendations_3 = get_recommendations(movie_title_to_recommend_3)\n",
        "print(f\"\\nRekomendasi untuk pencarian '{movie_title_to_recommend_3}':\")\n",
        "if isinstance(recommendations_3, pd.DataFrame):\n",
        "    print(recommendations_3)\n",
        "else:\n",
        "    print(recommendations_3)"
      ],
      "metadata": {
        "colab": {
          "base_uri": "https://localhost:8080/"
        },
        "id": "K78MdPzE0hLI",
        "outputId": "5cab0e36-e366-40d2-9727-bb0cfd5bd91e"
      },
      "execution_count": null,
      "outputs": [
        {
          "output_type": "stream",
          "name": "stdout",
          "text": [
            "Ditemukan beberapa judul yang mirip dengan 'batman': ['Batman v Superman: Dawn of Justice', 'Batman Begins', 'Batman & Robin', 'Batman Forever', 'Batman Returns', 'Batman', 'Batman: The Dark Knight Returns, Part 2', 'Batman']. Menggunakan 'Batman v Superman: Dawn of Justice'.\n",
            "\n",
            "Rekomendasi untuk pencarian 'batman':\n",
            "     Judul Film Rekomendasi  Skor Similaritas\n",
            "119           Batman Begins             0.278\n",
            "14             Man of Steel             0.272\n",
            "65          The Dark Knight             0.258\n",
            "428          Batman Returns             0.258\n",
            "3     The Dark Knight Rises             0.242\n",
            "1359                 Batman             0.212\n",
            "870             Superman II             0.211\n",
            "1296           Superman III             0.202\n",
            "3818               Defendor             0.202\n",
            "210          Batman & Robin             0.201\n"
          ]
        }
      ]
    },
    {
      "cell_type": "markdown",
      "source": [
        "- kode diatas untuk memastikan model bekerja dengan baik berdasarkan judul movienya"
      ],
      "metadata": {
        "id": "3gxHMHxM0fzZ"
      }
    },
    {
      "cell_type": "code",
      "source": [],
      "metadata": {
        "id": "QQtC5n910lSf"
      },
      "execution_count": null,
      "outputs": []
    }
  ],
  "metadata": {
    "colab": {
      "provenance": []
    },
    "kernelspec": {
      "display_name": "Python 3",
      "name": "python3"
    },
    "language_info": {
      "name": "python"
    }
  },
  "nbformat": 4,
  "nbformat_minor": 0
}